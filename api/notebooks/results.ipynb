{
 "cells": [
  {
   "cell_type": "code",
   "execution_count": null,
   "metadata": {},
   "outputs": [],
   "source": [
    "import requests\n",
    "\n",
    "url = \"http://0.0.0.0:8000/salary\"\n",
    "\n",
    "payload = {}\n",
    "files=[\n",
    "  ('file',('Boleta de Pago Servicios Metalurgicos Generales EIRL.pdf',open(r'C:\\Users\\julio\\Downloads\\Muestra boletas\\Boleta de Pago Servicios Metalurgicos Generales EIRL.pdf','rb'),'application/pdf'))\n",
    "]\n",
    "headers = {\n",
    "  'x-api-key': 'read'\n",
    "}\n",
    "\n",
    "response = requests.request(\"POST\", url, headers=headers, data=payload, files=files)\n",
    "\n",
    "print(response.text)\n"
   ]
  }
 ],
 "metadata": {
  "kernelspec": {
   "display_name": "Python 3",
   "language": "python",
   "name": "python3"
  },
  "language_info": {
   "codemirror_mode": {
    "name": "ipython",
    "version": 3
   },
   "file_extension": ".py",
   "mimetype": "text/x-python",
   "name": "python",
   "nbconvert_exporter": "python",
   "pygments_lexer": "ipython3",
   "version": "3.11.0"
  }
 },
 "nbformat": 4,
 "nbformat_minor": 2
}
