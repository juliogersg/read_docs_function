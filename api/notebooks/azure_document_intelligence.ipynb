{
 "cells": [
  {
   "cell_type": "markdown",
   "metadata": {},
   "source": [
    "# Test Azure Document Intelligence"
   ]
  },
  {
   "cell_type": "code",
   "execution_count": 1,
   "metadata": {},
   "outputs": [],
   "source": [
    "#Import libraries\n",
    "from azure.core.credentials import AzureKeyCredential\n",
    "from azure.ai.documentintelligence import DocumentIntelligenceClient\n",
    "from azure.ai.documentintelligence.models import AnalyzeResult\n",
    "from azure.storage.blob import BlobServiceClient, BlobClient\n",
    "from dotenv import load_dotenv\n",
    "import os"
   ]
  },
  {
   "cell_type": "code",
   "execution_count": 2,
   "metadata": {},
   "outputs": [],
   "source": [
    "# Get Configuration Settings\n",
    "load_dotenv()\n",
    "document_intelligence_endpoint = os.getenv('DOCUMENT_INTELLIGENCE_ENDPOINT')\n",
    "document_intelligence_key = os.getenv('DOCUMENT_INTELLIGENCE_API_KEY')\n",
    "model_id = os.getenv('DOCUMENT_INTELLIGENCE_MODEL')\n",
    "# storage_connection_string = os.getenv('AZURE_STORAGE_CONNECTION_STRING')\n",
    "# container_name = os.getenv('AZURE_STORAGE_CONTAINER_NAME')\n",
    "# blob_name = os.getenv('AZURE_STORAGE_BLOB_NAME')"
   ]
  },
  {
   "cell_type": "code",
   "execution_count": 4,
   "metadata": {},
   "outputs": [],
   "source": [
    "#Routes\n",
    "# path_to_sample_documents = r'C:\\Users\\julio\\Downloads\\Muestra boletas\\BOLETA MARZO 24.jpg'\n",
    "path_to_sample_documents = r\"C:\\Users\\julio\\Downloads\\Muestras de cronogramas\\CRONOGRAMA DE PAGOS DE BCP.pdf\""
   ]
  },
  {
   "cell_type": "code",
   "execution_count": 5,
   "metadata": {},
   "outputs": [],
   "source": [
    "# # Crear cliente de servicio de blobs y cliente de blob específico\n",
    "# blob_service_client = BlobServiceClient.from_connection_string(storage_connection_string)\n",
    "# blob_client = blob_service_client.get_blob_client(container=container_name, blob=blob_name)\n",
    "\n",
    "# # Leer el contenido del blob\n",
    "# with blob_client.download_blob() as download_stream:\n",
    "#     blob_content = download_stream.readall()\n",
    "\n",
    "# Crear cliente de inteligencia de documentos\n",
    "document_intelligence_client = DocumentIntelligenceClient(endpoint=document_intelligence_endpoint, \n",
    "                                                          credential=AzureKeyCredential(document_intelligence_key)\n",
    "                                                          )\n",
    "\n",
    "# Leer el contenido del archivo\n",
    "with open(path_to_sample_documents, \"rb\") as f:\n",
    "    poller = document_intelligence_client.begin_analyze_document(\n",
    "        model_id= model_id, \n",
    "        analyze_request= f, \n",
    "        content_type= \"application/octet-stream\", \n",
    "        features= [\"keyValuePairs\"]\n",
    "    )\n",
    "\n",
    "# # Enviar el contenido del blob al cliente de inteligencia de documentos\n",
    "# poller = document_intelligence_client.begin_analyze_document(\n",
    "#     model_id= model_id, analyze_request= blob_content, content_type= \"application/octet-stream\"\n",
    "# )\n",
    "result: AnalyzeResult = poller.result()\n"
   ]
  },
  {
   "cell_type": "code",
   "execution_count": 6,
   "metadata": {},
   "outputs": [
    {
     "name": "stdout",
     "output_type": "stream",
     "text": [
      "<class 'azure.ai.documentintelligence.models._models.DocumentTable'>\n",
      "<class 'azure.ai.documentintelligence.models._models.DocumentTable'>\n",
      "<class 'azure.ai.documentintelligence.models._models.DocumentTable'>\n",
      "<class 'azure.ai.documentintelligence.models._models.DocumentTable'>\n",
      "<class 'azure.ai.documentintelligence.models._models.DocumentTable'>\n",
      "<class 'azure.ai.documentintelligence.models._models.DocumentTable'>\n"
     ]
    }
   ],
   "source": [
    "for table_idx, table in enumerate(result.tables):\n",
    "    print(type(table))"
   ]
  },
  {
   "cell_type": "code",
   "execution_count": null,
   "metadata": {},
   "outputs": [],
   "source": [
    "paragraph_dict = {}\n",
    "if result.paragraphs:\n",
    "    consolidated_content = \"\\n\".join(item['content'] for item in result.paragraphs)"
   ]
  },
  {
   "cell_type": "code",
   "execution_count": null,
   "metadata": {},
   "outputs": [],
   "source": [
    "# Extract the content and bounding regions\n",
    "texts = [(item['content'], item['boundingRegions'][0]['polygon']) for item in result.paragraphs]\n",
    "\n",
    "# Function to calculate the center of a bounding box\n",
    "def get_center(polygon):\n",
    "    x_coords = [polygon[i] for i in range(0, len(polygon), 2)]\n",
    "    y_coords = [polygon[i+1] for i in range(0, len(polygon), 2)]\n",
    "    center_x = sum(x_coords) / len(x_coords)\n",
    "    center_y = sum(y_coords) / len(y_coords)\n",
    "    return (center_x, center_y)\n",
    "\n",
    "# Get centers for each text\n",
    "texts_with_centers = [(text, get_center(polygon)) for text, polygon in texts]\n",
    "\n",
    "# Sort texts by their y-coordinate (and then x-coordinate to handle lines)\n",
    "texts_with_centers.sort(key=lambda item: (item[1][1], item[1][0]))\n",
    "\n",
    "# Combine the texts into a single string\n",
    "consolidated_text = '/n'.join([text for text, center in texts_with_centers])\n",
    "\n",
    "print(consolidated_text)\n",
    "\n"
   ]
  },
  {
   "cell_type": "code",
   "execution_count": null,
   "metadata": {},
   "outputs": [],
   "source": [
    "print(consolidated_content)"
   ]
  },
  {
   "cell_type": "code",
   "execution_count": null,
   "metadata": {},
   "outputs": [],
   "source": [
    "# Extract the content and bounding regions\n",
    "texts = [(item['content'], item['boundingRegions'][0]['polygon']) for item in result.paragraphs]\n",
    "\n",
    "# Function to calculate the center of a bounding box\n",
    "def get_center(polygon):\n",
    "    x_coords = [polygon[i] for i in range(0, len(polygon), 2)]\n",
    "    y_coords = [polygon[i+1] for i in range(0, len(polygon), 2)]\n",
    "    center_x = sum(x_coords) / len(x_coords)\n",
    "    center_y = sum(y_coords) / len(y_coords)\n",
    "    return (center_x, center_y)\n",
    "\n",
    "# Get centers for each text\n",
    "texts_with_centers = [(text, get_center(polygon)) for text, polygon in texts]\n",
    "\n",
    "# Sort texts by their y-coordinate (and then x-coordinate to handle lines)\n",
    "texts_with_centers.sort(key=lambda item: (item[1][1], item[1][0]))\n",
    "\n",
    "# Define the proximity threshold\n",
    "proximity_threshold_y = 25  # Adjust this value based on your data\n",
    "proximity_threshold_x = 125  # Adjust this value based on your data\n",
    "\n",
    "# Group texts that are close to each other\n",
    "grouped_texts = []\n",
    "current_group = []\n",
    "\n",
    "for i in range(len(texts_with_centers)):\n",
    "    text, center = texts_with_centers[i]\n",
    "    \n",
    "    if not current_group:\n",
    "        current_group.append((text, center))\n",
    "    else:\n",
    "        last_text, last_center = current_group[-1]\n",
    "        \n",
    "        if abs(center[1] - last_center[1]) < proximity_threshold_y and abs(center[0] - last_center[0]) < proximity_threshold_x:\n",
    "            current_group.append((text, center))\n",
    "        else:\n",
    "            grouped_texts.append(current_group)\n",
    "            current_group = [(text, center)]\n",
    "\n",
    "if current_group:\n",
    "    grouped_texts.append(current_group)\n",
    "\n",
    "# Consolidate the texts\n",
    "consolidated_text = '\\n'.join([' '.join([text for text, center in group]) for group in grouped_texts])\n",
    "\n",
    "print(consolidated_text)\n"
   ]
  },
  {
   "cell_type": "code",
   "execution_count": null,
   "metadata": {},
   "outputs": [],
   "source": [
    "import re\n",
    "def clean_text(text):\n",
    "    text = text.replace('\\n', ' ')\n",
    "    text = re.sub(r'\\s+', ' ', text)\n",
    "    text = text.replace(':', '')\n",
    "    text = text.strip()\n",
    "    return text"
   ]
  },
  {
   "cell_type": "code",
   "execution_count": null,
   "metadata": {},
   "outputs": [],
   "source": [
    "kv_dict = {}\n",
    "if result.key_value_pairs:\n",
    "    for kv_pair in result.key_value_pairs:\n",
    "        if kv_pair.key and kv_pair.value:\n",
    "            key = clean_text(kv_pair.key.content)\n",
    "            kv_dict[key] = kv_pair.value.content"
   ]
  },
  {
   "cell_type": "code",
   "execution_count": null,
   "metadata": {},
   "outputs": [],
   "source": [
    "import json\n",
    "a = json.dumps(kv_dict)\n",
    "print(json.dumps(kv_dict))"
   ]
  },
  {
   "cell_type": "code",
   "execution_count": null,
   "metadata": {},
   "outputs": [],
   "source": [
    "table_dict = {}\n",
    "for table_idx, table in enumerate(result.tables):\n",
    "    aux_list = []\n",
    "    for cell in table.cells:\n",
    "        aux_dict = {}\n",
    "        aux_dict['row'] = cell.row_index\n",
    "        aux_dict['column'] = cell.column_index\n",
    "        aux_dict['content'] = cell.content.encode(\"utf-8\").decode(\"utf-8\")\n",
    "        if aux_dict['content'] != \"\":\n",
    "            aux_list.append(aux_dict)\n",
    "    table_dict[table_idx] = aux_list"
   ]
  },
  {
   "cell_type": "code",
   "execution_count": null,
   "metadata": {},
   "outputs": [],
   "source": [
    "import json\n",
    "a = json.dumps(table_dict)\n",
    "print(a)"
   ]
  },
  {
   "cell_type": "code",
   "execution_count": null,
   "metadata": {},
   "outputs": [],
   "source": [
    "table_dict[3]"
   ]
  },
  {
   "cell_type": "code",
   "execution_count": null,
   "metadata": {},
   "outputs": [],
   "source": [
    "b = \"\"\n",
    "a = b.encode(\"utf-8\").decode(\"utf-8\")"
   ]
  },
  {
   "cell_type": "code",
   "execution_count": null,
   "metadata": {},
   "outputs": [],
   "source": [
    "import json\n",
    "\n",
    "# Cargar el archivo JSON\n",
    "with open(r'C:\\Users\\julio\\Downloads\\CRONOGRAMA DE PAGOS DE BCP.pdf.json', 'r') as file:\n",
    "    data = json.load(file)\n",
    "\n",
    "# Inicializar listas para almacenar las regiones de tablas y los párrafos no en tablas\n",
    "table_regions = []\n",
    "paragraphs = []\n",
    "\n",
    "# Recopilar regiones de las tablas\n",
    "for table in data['analyzeResult'].get('tables', []):\n",
    "    for cell in table.get('cells', []):\n",
    "        for region in cell.get('boundingRegions', []):\n",
    "            table_regions.append(region)\n",
    "\n",
    "# Filtrar párrafos que no están dentro de las tablas\n",
    "for paragraph in data['analyzeResult'].get('paragraphs', []):\n",
    "    in_table = False\n",
    "    for region in paragraph.get('boundingRegions', []):\n",
    "        for table_region in table_regions:\n",
    "            # Comparar regiones (puedes ajustar la lógica de comparación según tus necesidades)\n",
    "            if (region['pageNumber'] == table_region['pageNumber'] and\n",
    "                region['polygon'][0] >= table_region['polygon'][0] and\n",
    "                region['polygon'][1] >= table_region['polygon'][1] and\n",
    "                region['polygon'][2] <= table_region['polygon'][2] and\n",
    "                region['polygon'][3] <= table_region['polygon'][3]):\n",
    "                in_table = True\n",
    "                break\n",
    "        if in_table:\n",
    "            break\n",
    "    if not in_table:\n",
    "        paragraphs.append(paragraph['content'])\n",
    "\n",
    "# Mostrar los párrafos filtrados\n",
    "for paragraph in paragraphs:\n",
    "    print(paragraph)\n"
   ]
  },
  {
   "cell_type": "code",
   "execution_count": null,
   "metadata": {},
   "outputs": [],
   "source": [
    "import json\n",
    "\n",
    "# Cargar el archivo JSON\n",
    "with open(r'C:\\Users\\julio\\Downloads\\CRONOGRAMA DE PAGOS DE BCP.pdf.json', 'r') as file:\n",
    "    data = json.load(file)\n",
    "\n",
    "# Inicializar listas para almacenar las regiones de tablas y los párrafos no en tablas\n",
    "table_regions = []\n",
    "paragraphs = []\n",
    "\n",
    "# Recopilar regiones de las tablas\n",
    "for table in data['analyzeResult'].get('tables', []):\n",
    "    for cell in table.get('cells', []):\n",
    "        for region in cell.get('boundingRegions', []):\n",
    "            table_regions.append(region)\n",
    "\n",
    "# Filtrar párrafos que no están dentro de las tablas\n",
    "for paragraph in data['analyzeResult'].get('paragraphs', []):\n",
    "    paragraphs.append(paragraph['content'])\n",
    "\n",
    "# Mostrar los párrafos filtrados\n",
    "for paragraph in paragraphs:\n",
    "    print(paragraph)"
   ]
  },
  {
   "cell_type": "code",
   "execution_count": null,
   "metadata": {},
   "outputs": [],
   "source": [
    "from langchain_openai import ChatOpenAI\n",
    "from langchain.prompts import ChatPromptTemplate\n",
    "from langchain.output_parsers.openai_functions import JsonOutputFunctionsParser\n",
    "from langchain_core.runnables import RunnablePassthrough\n",
    "from langchain_openai import OpenAIEmbeddings\n",
    "from langchain_community.vectorstores import FAISS\n",
    "from langchain.text_splitter import RecursiveCharacterTextSplitter\n",
    "from langchain_community.document_loaders import TextLoader\n",
    "from langchain_core.messages import HumanMessage\n",
    "from langchain_openai import AzureChatOpenAI\n",
    "from langchain_openai import AzureOpenAIEmbeddings\n",
    "import httpx\n",
    "\n",
    "template = \"\"\"\n",
    "tell me 4 jokes about {topic}\n",
    "\"\"\"\n",
    "\n",
    "functions = [\n",
    "    {\n",
    "        \"name\": \"jokes\",\n",
    "        \"description\": \"jokes\",\n",
    "        \"parameters\": {\n",
    "            \"type\": \"object\",\n",
    "            \"properties\": {\n",
    "                \"joke1\": {\n",
    "                    \"type\": \"string\", \n",
    "                    \"description\": \"joke1\"\n",
    "                },\n",
    "                \"joke2\": {\n",
    "                    \"type\": \"string\",\n",
    "                    \"description\": \"joke2\",\n",
    "                },\n",
    "                \"joke3\":{\n",
    "                    \"type\": \"string\",\n",
    "                    \"description\": \"joke3\"\n",
    "                },\n",
    "                \"joke4\":{\n",
    "                    \"type\": \"string\",\n",
    "                    \"description\": \"joke4\"\n",
    "                },\n",
    "            },\n",
    "            \"required\": [\"joke1\", \"joke2\", \"joke3\", \"joke4\"],\n",
    "        },\n",
    "    }\n",
    "]\n",
    "\n",
    "function_name = \"jokes\"\n"
   ]
  },
  {
   "cell_type": "code",
   "execution_count": null,
   "metadata": {},
   "outputs": [],
   "source": [
    "ocr_content = \"\"\"\n",
    "bears\n",
    "\"\"\"\n",
    "ocr_content = ocr_content.encode(\"utf-8\").decode(\"utf-8\")"
   ]
  },
  {
   "cell_type": "code",
   "execution_count": null,
   "metadata": {},
   "outputs": [],
   "source": [
    "from langchain.globals import set_debug\n",
    "\n",
    "set_debug(True)\n"
   ]
  },
  {
   "cell_type": "code",
   "execution_count": null,
   "metadata": {},
   "outputs": [],
   "source": [
    "\n",
    "prompt = ChatPromptTemplate.from_template(template)\n",
    "# # Create an HTTP client that does not verify SSL certificates\n",
    "# client = httpx.Client(verify=False)\n",
    "model = AzureChatOpenAI(\n",
    "    openai_api_type='azure',\n",
    "    openai_api_version=\"2024-02-15-preview\",\n",
    "    azure_deployment=\"oaisaltoibk35T16k\",\n",
    "    azure_endpoint=\"https://saltoeusibkoai01dev.openai.azure.com/\",\n",
    "    openai_api_key=\"d0a66ddc2ce24a0b96d1ab206233f079\",\n",
    "    # http_client= client,\n",
    ")\n",
    "# Build chain\n",
    "chain = (\n",
    "    {\"topic\": RunnablePassthrough()}\n",
    "    | prompt\n",
    "    | model.bind(function_call={\"name\": function_name}, functions=functions)\n",
    "    | JsonOutputFunctionsParser()\n",
    ")\n",
    "# Invoke Azure OpenAI\n",
    "result = chain.invoke(ocr_content)\n",
    " \n"
   ]
  },
  {
   "cell_type": "code",
   "execution_count": null,
   "metadata": {},
   "outputs": [],
   "source": [
    "from langchain.globals import set_debug\n",
    "\n",
    "set_debug(False)\n",
    "message = HumanMessage(\n",
    "    content=\"Translate this sentence from English to French. I love programming.\"\n",
    ")\n",
    "model.invoke([message])"
   ]
  },
  {
   "cell_type": "code",
   "execution_count": null,
   "metadata": {},
   "outputs": [],
   "source": [
    "print(result)"
   ]
  },
  {
   "cell_type": "code",
   "execution_count": null,
   "metadata": {},
   "outputs": [],
   "source": []
  },
  {
   "cell_type": "code",
   "execution_count": null,
   "metadata": {},
   "outputs": [],
   "source": [
    "from langchain_community.utils.openai_functions import (\n",
    "    convert_pydantic_to_openai_function,\n",
    ")\n",
    "from langchain_core.prompts import ChatPromptTemplate\n",
    "from langchain_core.pydantic_v1 import BaseModel, Field, validator\n",
    "from langchain_openai import ChatOpenAI\n",
    "\n",
    "class Payment_Information(BaseModel):\n",
    "    \"\"\"Joke to tell user.\"\"\"\n",
    "\n",
    "    bank: str = Field(description=\"The Bank that issued the loan\")\n",
    "    monthly_payment: str = Field(description=\"The monthly payment amount the user pays for their loan.\")\n",
    "    total_loan_amount: str = Field(description=\"The total amount loaned by the bank.\")\n",
    "    interest_rate: str = Field(description=\"Find the interest rate at which the loan was issued.\")\n",
    "\n",
    "\n",
    "openai_functions = [convert_pydantic_to_openai_function(Payment_Information)]"
   ]
  },
  {
   "cell_type": "code",
   "execution_count": null,
   "metadata": {},
   "outputs": [],
   "source": [
    "template = \"\"\"\n",
    "## Task Goal\n",
    "The task goal is to identify specific financial details from the extracted OCR text of a payment schedule.\n",
    "\n",
    "## Task Instructions\n",
    "You will be given a text extracted with OCR from a payment schedule in Spanish. The text contains plain text, key-value pairs and tables. Please identify and extract the following elements:\n",
    "\n",
    "1. **Bank**: Identify the bank that issued the loan. Some known banks include: \"BCP\" or \"Banco de crédito del Perú\", \"BBVA\", \"Scotiabank\", \"Interbank\", \"Banco Pichincha\", \"Mi Banco\", \"BanBif\", \"Banco Falabella\", \"Banco Ripley\", \"Banco Santander\", \"Alfin Banco\", \"BCI\", etc.\n",
    "2. **Monthly Payment**: Find the monthly payment amount the user pays for their loan. It may appear as \"cuota\", \"monto\", \"cuota mensual\", \"próximo pago\", etc.\n",
    "3. **Total Loan Amount**: Identify the total amount loaned by the bank. It may appear as \"importe de préstamo\", \"monto original\", \"crédito hipotecario\", etc.\n",
    "4. **Interest Rate**: Find the interest rate at which the loan was issued. It may appear as \"tasa de costo efectivo\", \"tasa anual\", \"TEA\", \"TCEA\", etc.\n",
    "\n",
    "If you cannot find a specific value, return an empty string (\"\").\n",
    "\n",
    "## Task Output:\n",
    "Provide the extracted information as follows:\n",
    "- Bank: [Bank Name]\n",
    "- Monthly Payment: [Monthly Payment Amount]\n",
    "- Total Loan Amount: [Total Loan Amount]\n",
    "- Interest Rate: [Interest Rate]\n",
    "\n",
    "## Task Input:\n",
    "{ocr_content}\n",
    "\"\"\""
   ]
  },
  {
   "cell_type": "code",
   "execution_count": null,
   "metadata": {},
   "outputs": [],
   "source": [
    "prompt = ChatPromptTemplate.from_template(template)\n",
    "# # Create an HTTP client that does not verify SSL certificates\n",
    "# client = httpx.Client(verify=False)\n",
    "model = AzureChatOpenAI(\n",
    "    openai_api_type='azure',\n",
    "    openai_api_version=\"2024-02-15-preview\",\n",
    "    azure_deployment=\"oaisaltoibk35T16k\",\n",
    "    azure_endpoint=\"https://saltoeusibkoai01dev.openai.azure.com/\",\n",
    "    openai_api_key=\"d0a66ddc2ce24a0b96d1ab206233f079\",\n",
    "    # http_client= client,\n",
    ")"
   ]
  },
  {
   "cell_type": "code",
   "execution_count": null,
   "metadata": {},
   "outputs": [],
   "source": [
    "parser = JsonOutputFunctionsParser()\n",
    "chain = prompt | model.bind(functions=openai_functions) | parser"
   ]
  },
  {
   "cell_type": "code",
   "execution_count": null,
   "metadata": {},
   "outputs": [],
   "source": [
    "ocr_content = \"\"\"\n",
    "\n",
    "                PARAGRAPHS:\n",
    "                BCP> BCP> BCP> BCP> PAGINA 2 PAGINA 2 PAGINA 1 PAGINA 1 AMR261P2-EFCM AMR261P2-EFCM AMR261P2-EFCM AMR261P2-EFCM USCACHI SANTOS EDITH USCACHI SANTOS EDITH USCACHI SANTOS EDITH USCACHI SANTOS EDITH JR. JOSE CARLOS MARIATEGUI MZ. C LT. 6 URB JR. JOSE CARLOS MARIATEGUI MZ. C LT. 6 URB JR. JOSE CARLOS MARIATEGUI MZ. C LT. 6 URB JR. JOSE CARLOS MARIATEGUI MZ. C LT. 6 URB 1687 1687 1687 1687 CUZCO-CUZCO-WANCHAQ CUZCO-CUZCO-WANCHAQ CUZCO-CUZCO-WANCHAQ CUZCO-CUZCO-WANCHAQ 100-285-0000-00000009400201 100-285-0000-00000009400201 100-285-0000-00000009400201 100-285-0000-00000009400201 CREDITO NRO : CREDITO NRO : CREDITO NRO : CREDITO NRO : : : SOLES SOLES SOLES SOLES PRODUCTO PRODUCTO CREDITO NEGOCIOS CREDITO NEGOCIOS PRODUCTO : CREDITO NEGOCIOS IMPORTE DESEMBOLSADO 240,950.00 : PRODUCTO : CREDITO NEGOCIOS IMPORTE DESEMBOLSADO 240,950.00 : 240,950.00 240,950.00 IMPORTE DESEMBOLSADO IMPORTE DESEMBOLSADO : : IMPORTE PRESTAMO IMPORTE PRESTAMO IMPORTE PRESTAMO IMPORTE PRESTAMO 240,950.00 240,950.00 240,950.00 240,950.00 : : : : TASA DE INTERES COMPENSATORIA EFECTIVA ANUAL (1) : TASA DE INTERES COMPENSATORIA EFECTIVA ANUAL (1) : TASA DE INTERES COMPENSATORIA EFECTIVA ANUAL (1) : TASA DE INTERES COMPENSATORIA EFECTIVA ANUAL (1) : 12.70% 12.70% 12.70% 12.70% TASA DE COSTO EFECTIVO ANUAL REMANENTE TASA DE COSTO EFECTIVO ANUAL REMANENTE TASA DE COSTO EFECTIVO ANUAL REMANENTE TASA DE COSTO EFECTIVO ANUAL REMANENTE 14.17% 14.17% 14.17% 14.17% : : 1.08% TASA ANUAL SEGURO INMUEBLE : 0.39% 1.08% TASA ANUAL SEGURO INMUEBLE : 0.39% TASA ANUAL SEGURO DESGRAVAMEN TASA ANUAL SEGURO DESGRAVAMEN FECHA DESEMBOLSO: 21/10/23 FECHA DE EMISION CRONOGRAMA: 14/02/24 CUOTAS POR PAGAR: 27 DIAS DE GRACIA : 0 0.39% TASA ANUAL SEGURO DESGRAVAMEN : 1.08% TASA ANUAL SEGURO INMUEBLE : FECHA DESEMBOLSO: 21/10/23 FECHA DE EMISION CRONOGRAMA: 14/02/24 CUOTAS POR PAGAR: 27 DIAS DE GRACIA : 0 0.39% TASA ANUAL SEGURO DESGRAVAMEN : 1.08% TASA ANUAL SEGURO INMUEBLE : FECHA DESEMBOLSO: 21/10/23 FECHA DE EMISION CRONOGRAMA: 14/02/24 CUOTAS POR PAGAR: 27 DIAS DE GRACIA : 0 FECHA DESEMBOLSO: 21/10/23 FECHA DE EMISION CRONOGRAMA: 14/02/24 CUOTAS POR PAGAR: 27 DIAS DE GRACIA : 0 PERIODICIDAD : MENSUAL PERIODICIDAD : MENSUAL PERIODICIDAD : MENSUAL IMPORTE TOTAL A PAGAR (2) : 270,480.91 IMPORTE TOTAL INTERESES (3) : 26,714.57 PERIODICIDAD : MENSUAL IMPORTE TOTAL A PAGAR (2) : 270,480.91 IMPORTE TOTAL INTERESES (3) : 26,714.57 IMPORTE TOTAL A PAGAR (2) : 270,480.91 IMPORTE TOTAL INTERESES (3) : 26,714.57 IMPORTE TOTAL A PAGAR (2) : 270,480.91 IMPORTE TOTAL INTERESES (3) : 26,714.57 FUNCIONARIO NEG. : 28564 DESGRAVAMEN CREDITO NEGOCIOS (POLIZA 15319) FUNCIONARIO NEG. : 28564 DESGRAVAMEN CREDITO NEGOCIOS (POLIZA 15319) FUNCIONARIO NEG. : 28564 DESGRAVAMEN CREDITO NEGOCIOS (POLIZA 15319) FUNCIONARIO NEG. : 28564 DESGRAVAMEN CREDITO NEGOCIOS (POLIZA 15319) (1) LA TASA DE INTERES COMPENSATORIA EFECTIVA ANUAL (TEA) ES FIJA Y SE CALCULA TOMANDO EN CUENTA UN A O BASE DE 360 DIAS. (1) LA TASA DE INTERES COMPENSATORIA EFECTIVA ANUAL (TEA) ES FIJA Y SE CALCULA TOMANDO EN CUENTA UN A O BASE DE 360 DIAS. (2) IMPORTE TOTAL A PAGAR: INCLUYE LA SUMA DEL TOTAL DE CUOTAS MAS INTERESES FINANCIADOS Y SEGUROS FINANCIADOS. (2) IMPORTE TOTAL A PAGAR: INCLUYE LA SUMA DEL TOTAL DE CUOTAS MAS INTERESES FINANCIADOS Y SEGUROS FINANCIADOS. (3) IMPORTE TOTAL INTERESES: SUMA DEL TOTAL DE INTERESES COMPENSATORIOS ( CONSIDERA LOS INTERESES FINANCIADOS) . (3) IMPORTE TOTAL INTERESES: SUMA DEL TOTAL DE INTERESES COMPENSATORIOS ( CONSIDERA LOS INTERESES FINANCIADOS) . EL DETALLE DE PAGOS REALIZADOS PUEDE INCLUIR SEGURO DE DESGRAVAMEN O ADMINISTRACION DE POLIZA ENDOSADA. EL DETALLE DE PAGOS REALIZADOS PUEDE INCLUIR SEGURO DE DESGRAVAMEN O ADMINISTRACION DE POLIZA ENDOSADA. EL BANCO SE RESERVA EL DERECHO DE COBRAR PORTES, SEGUROS O INTERESES GENERADOS, NO COBRADOS HASTA LA EMISION DE ESTE CRONOGRAMA. EL BANCO SE RESERVA EL DERECHO DE COBRAR PORTES, SEGUROS O INTERESES GENERADOS, NO COBRADOS HASTA LA EMISION DE ESTE CRONOGRAMA. ESTE CRONOGRAMA SE ELABORA BAJO EL SUPUESTO DEL CUMPLIMIENTO DEL PAGO DE LAS CUOTAS EN LAS FECHAS INDICADAS. CUALQUIER ALTERACION EN LOS PAGOS O EN LAS CONDICIONES DEL CREDITO, DEJA SIN EFECTO ESTE DOCUMENTO. ESTE CRONOGRAMA SE ELABORA BAJO EL SUPUESTO DEL CUMPLIMIENTO DEL PAGO DE LAS CUOTAS EN LAS FECHAS INDICADAS. CUALQUIER ALTERACION EN LOS PAGOS O EN LAS CONDICIONES DEL CREDITO, DEJA SIN EFECTO ESTE DOCUMENTO. SI TUVIERA ALGUNA CONSULTA SIRVASE COMUNICARSE CON SU FUNCIONARIO DE NEGOCIOS O A BANCA POR TELEFONO VIABCP AL 3119898. SI TUVIERA ALGUNA CONSULTA SIRVASE COMUNICARSE CON SU FUNCIONARIO DE NEGOCIOS O A BANCA POR TELEFONO VIABCP AL 3119898.\n",
    "                KEY VALUE PAIRS:\n",
    "                {\"CREDITO NRO\": \"100-285-0000-00000009400201\", \"PRODUCTO\": \"CREDITO NEGOCIOS\\nSOLES\", \"IMPORTE DESEMBOLSADO\": \"240,950.00\", \"IMPORTE PRESTAMO\": \"240,950.00\", \"TASA DE INTERES COMPENSATORIA EFECTIVA ANUAL (1)\": \"12.70%\", \"TASA DE COSTO EFECTIVO ANUAL REMANENTE\": \"14.17%\", \"FECHA DESEMBOLSO\": \"21/10/23\", \"FECHA DE EMISION CRONOGRAMA\": \"14/02/24\", \"CUOTAS POR PAGAR\": \"27\", \"DIAS DE GRACIA\": \"0\", \"TASA ANUAL SEGURO DESGRAVAMEN\": \"1.08%\", \"TASA ANUAL SEGURO INMUEBLE\": \"0.39%\", \"PERIODICIDAD\": \"MENSUAL\", \"IMPORTE TOTAL A PAGAR (2)\": \"270,480.91\", \"IMPORTE TOTAL INTERESES (3)\": \"26,714.57\", \"FUNCIONARIO NEG.\": \"28564\", \"DESGRAVAMEN\": \"CREDITO NEGOCIOS (POLIZA 15319)\"}\n",
    "                TABLES:\n",
    "                {\"0\": [{\"row\": 0, \"column\": 0, \"content\": \"FECHA OPERAC.\"}, {\"row\": 0, \"column\": 1, \"content\": \"SALDO CAPITAL\"}, {\"row\": 0, \"column\": 2, \"content\": \"AMORTIZACION\"}, {\"row\": 0, \"column\": 3, \"content\": \"INTERESES\"}, {\"row\": 0, \"column\": 4, \"content\": \"SEGURO DESGR.\"}, {\"row\": 0, \"column\": 5, \"content\": \"SEGURO\\nBIEN\"}, {\"row\": 0, \"column\": 6, \"content\": \"COMISIONES\"}, {\"row\": 0, \"column\": 7, \"content\": \"PAGADO\"}, {\"row\": 1, \"column\": 0, \"content\": \"211123\"}, {\"row\": 1, \"column\": 1, \"content\": \"240,950.00\"}, {\"row\": 1, \"column\": 2, \"content\": \"2,724.78\"}, {\"row\": 1, \"column\": 3, \"content\": \"2,573.49\"}, {\"row\": 1, \"column\": 4, \"content\": \"221.01\"}, {\"row\": 1, \"column\": 5, \"content\": \"14.95\"}, {\"row\": 1, \"column\": 6, \"content\": \"0.00\"}, {\"row\": 1, \"column\": 7, \"content\": \"5,534.23\"}, {\"row\": 2, \"column\": 0, \"content\": \"211123\"}, {\"row\": 2, \"column\": 1, \"content\": \"238,225.22\"}, {\"row\": 2, \"column\": 2, \"content\": \"50,000.00\"}, {\"row\": 2, \"column\": 3, \"content\": \"0.00\"}, {\"row\": 2, \"column\": 4, \"content\": \"0.00\"}, {\"row\": 2, \"column\": 5, \"content\": \"0.00\"}, {\"row\": 2, \"column\": 6, \"content\": \"0.00\"}, {\"row\": 2, \"column\": 7, \"content\": \"50,000.00\"}, {\"row\": 3, \"column\": 0, \"content\": \"211223\"}, {\"row\": 3, \"column\": 1, \"content\": \"188,225.22\"}, {\"row\": 3, \"column\": 2, \"content\": \"3,467.96\"}, {\"row\": 3, \"column\": 3, \"content\": \"1,884.71\"}, {\"row\": 3, \"column\": 4, \"content\": \"167.08\"}, {\"row\": 3, \"column\": 5, \"content\": \"14.48\"}, {\"row\": 3, \"column\": 6, \"content\": \"0.00\"}, {\"row\": 3, \"column\": 7, \"content\": \"5,534.23\"}, {\"row\": 4, \"column\": 0, \"content\": \"200124\"}, {\"row\": 4, \"column\": 1, \"content\": \"184,757.26\"}, {\"row\": 4, \"column\": 2, \"content\": \"3,438.14\"}, {\"row\": 4, \"column\": 3, \"content\": \"1,911.66\"}, {\"row\": 4, \"column\": 4, \"content\": \"169.47\"}, {\"row\": 4, \"column\": 5, \"content\": \"14.96\"}, {\"row\": 4, \"column\": 6, \"content\": \"0.00\"}, {\"row\": 4, \"column\": 7, \"content\": \"5,534.23\"}, {\"row\": 5, \"column\": 0, \"content\": \"080224\"}, {\"row\": 5, \"column\": 1, \"content\": \"181,319.12\"}, {\"row\": 5, \"column\": 2, \"content\": \"3,478.12\"}, {\"row\": 5, \"column\": 3, \"content\": \"1,874.93\"}, {\"row\": 5, \"column\": 4, \"content\": \"166.22\"}, {\"row\": 5, \"column\": 5, \"content\": \"14.96\"}, {\"row\": 5, \"column\": 6, \"content\": \"0.00\"}, {\"row\": 5, \"column\": 7, \"content\": \"5,534.23\"}, {\"row\": 6, \"column\": 0, \"content\": \"080224\"}, {\"row\": 6, \"column\": 1, \"content\": \"177,841.00\"}, {\"row\": 6, \"column\": 2, \"content\": \"50,500.00\"}, {\"row\": 6, \"column\": 3, \"content\": \"0.00\"}, {\"row\": 6, \"column\": 4, \"content\": \"0.00\"}, {\"row\": 6, \"column\": 5, \"content\": \"0.00\"}, {\"row\": 6, \"column\": 6, \"content\": \"0.00\"}, {\"row\": 6, \"column\": 7, \"content\": \"50,500.00\"}, {\"row\": 7, \"column\": 0, \"content\": \"TOTAL\"}, {\"row\": 7, \"column\": 1, \"content\": \"PAGADO\"}, {\"row\": 7, \"column\": 2, \"content\": \"113,609.00\"}, {\"row\": 7, \"column\": 4, \"content\": \"723.78\"}, {\"row\": 7, \"column\": 6, \"content\": \"0.00\"}, {\"row\": 8, \"column\": 3, \"content\": \"8,244.79\"}, {\"row\": 8, \"column\": 5, \"content\": \"59.35\"}, {\"row\": 8, \"column\": 7, \"content\": \"122,636.92\"}], \"1\": [{\"row\": 0, \"column\": 0, \"content\": \"PROXIMO VENCIM.\"}, {\"row\": 0, \"column\": 1, \"content\": \"SALDO CAPITAL\"}, {\"row\": 0, \"column\": 2, \"content\": \"AMORTIZACION\"}, {\"row\": 0, \"column\": 3, \"content\": \"INTERESES\"}, {\"row\": 0, \"column\": 4, \"content\": \"SEGURO DESGR .\"}, {\"row\": 0, \"column\": 5, \"content\": \"SEGURO BIEN\"}, {\"row\": 0, \"column\": 6, \"content\": \"COMISIONES\"}, {\"row\": 0, \"column\": 7, \"content\": \"CUOTA\"}, {\"row\": 1, \"column\": 0, \"content\": \"210324\"}, {\"row\": 1, \"column\": 1, \"content\": \"127,341.00\"}, {\"row\": 1, \"column\": 2, \"content\": \"4,433.35\"}, {\"row\": 1, \"column\": 3, \"content\": \"998.37\"}, {\"row\": 1, \"column\": 4, \"content\": \"88.51\"}, {\"row\": 1, \"column\": 5, \"content\": \"14.00\"}, {\"row\": 1, \"column\": 6, \"content\": \"0.00\"}, {\"row\": 1, \"column\": 7, \"content\": \"5,534.23\"}, {\"row\": 2, \"column\": 0, \"content\": \"210424\"}, {\"row\": 2, \"column\": 1, \"content\": \"122,907.65\"}, {\"row\": 2, \"column\": 2, \"content\": \"4,134.82\"}, {\"row\": 2, \"column\": 3, \"content\": \"1,271.71\"}, {\"row\": 2, \"column\": 4, \"content\": \"112.74\"}, {\"row\": 2, \"column\": 5, \"content\": \"14.96\"}, {\"row\": 2, \"column\": 6, \"content\": \"0.00\"}, {\"row\": 2, \"column\": 7, \"content\": \"5,534.23\"}, {\"row\": 3, \"column\": 0, \"content\": \"210524\"}, {\"row\": 3, \"column\": 1, \"content\": \"118,772.83\"}, {\"row\": 3, \"column\": 2, \"content\": \"4,225.04\"}, {\"row\": 3, \"column\": 3, \"content\": \"1,189.28\"}, {\"row\": 3, \"column\": 4, \"content\": \"105.43\"}, {\"row\": 3, \"column\": 5, \"content\": \"14.48\"}, {\"row\": 3, \"column\": 6, \"content\": \"0.00\"}, {\"row\": 3, \"column\": 7, \"content\": \"5,534.23\"}, {\"row\": 4, \"column\": 0, \"content\": \"210624\"}, {\"row\": 4, \"column\": 1, \"content\": \"114,547.80\"}, {\"row\": 4, \"column\": 2, \"content\": \"4,228.99\"}, {\"row\": 4, \"column\": 3, \"content\": \"1,185.21\"}, {\"row\": 4, \"column\": 4, \"content\": \"105.07\"}, {\"row\": 4, \"column\": 5, \"content\": \"14.96\"}, {\"row\": 4, \"column\": 6, \"content\": \"0.00\"}, {\"row\": 4, \"column\": 7, \"content\": \"5,534.23\"}, {\"row\": 5, \"column\": 0, \"content\": \"210724\"}, {\"row\": 5, \"column\": 1, \"content\": \"110,318.81\"}, {\"row\": 5, \"column\": 2, \"content\": \"4,317.19\"}, {\"row\": 5, \"column\": 3, \"content\": \"1,104.63\"}, {\"row\": 5, \"column\": 4, \"content\": \"97.93\"}, {\"row\": 5, \"column\": 5, \"content\": \"14.48\"}, {\"row\": 5, \"column\": 6, \"content\": \"0.00\"}, {\"row\": 5, \"column\": 7, \"content\": \"5,534.23\"}, {\"row\": 6, \"column\": 0, \"content\": \"210824\"}, {\"row\": 6, \"column\": 1, \"content\": \"106,001.62\"}, {\"row\": 6, \"column\": 2, \"content\": \"4,325.26\"}, {\"row\": 6, \"column\": 3, \"content\": \"1,096.78\"}, {\"row\": 6, \"column\": 4, \"content\": \"97.23\"}, {\"row\": 6, \"column\": 5, \"content\": \"14.96\"}, {\"row\": 6, \"column\": 6, \"content\": \"0.00\"}, {\"row\": 6, \"column\": 7, \"content\": \"5,534.23\"}, {\"row\": 7, \"column\": 0, \"content\": \"210924\"}, {\"row\": 7, \"column\": 1, \"content\": \"101,676.37\"}, {\"row\": 7, \"column\": 2, \"content\": \"4,373.98\"}, {\"row\": 7, \"column\": 3, \"content\": \"1,052.03\"}, {\"row\": 7, \"column\": 4, \"content\": \"93.26\"}, {\"row\": 7, \"column\": 5, \"content\": \"14.96\"}, {\"row\": 7, \"column\": 6, \"content\": \"0.00\"}, {\"row\": 7, \"column\": 7, \"content\": \"5,534.23\"}, {\"row\": 8, \"column\": 0, \"content\": \"211024\"}, {\"row\": 8, \"column\": 1, \"content\": \"97,302.40\"}, {\"row\": 8, \"column\": 2, \"content\": \"4,459.08\"}, {\"row\": 8, \"column\": 3, \"content\": \"974.30\"}, {\"row\": 8, \"column\": 4, \"content\": \"86.37\"}, {\"row\": 8, \"column\": 5, \"content\": \"14.48\"}, {\"row\": 8, \"column\": 6, \"content\": \"0.00\"}, {\"row\": 8, \"column\": 7, \"content\": \"5,534.23\"}, {\"row\": 9, \"column\": 0, \"content\": \"211124\"}, {\"row\": 9, \"column\": 1, \"content\": \"92,843.32\"}, {\"row\": 9, \"column\": 2, \"content\": \"4,473.47\"}, {\"row\": 9, \"column\": 3, \"content\": \"960.64\"}, {\"row\": 9, \"column\": 4, \"content\": \"85.16\"}, {\"row\": 9, \"column\": 5, \"content\": \"14.96\"}, {\"row\": 9, \"column\": 6, \"content\": \"0.00\"}, {\"row\": 9, \"column\": 7, \"content\": \"5,534.23\"}, {\"row\": 10, \"column\": 0, \"content\": \"211224\"}, {\"row\": 10, \"column\": 1, \"content\": \"88,369.85\"}, {\"row\": 10, \"column\": 2, \"content\": \"4,556.45\"}, {\"row\": 10, \"column\": 3, \"content\": \"884.85\"}, {\"row\": 10, \"column\": 4, \"content\": \"78.44\"}, {\"row\": 10, \"column\": 5, \"content\": \"14.48\"}, {\"row\": 10, \"column\": 6, \"content\": \"0.00\"}, {\"row\": 10, \"column\": 7, \"content\": \"5,534.23\"}, {\"row\": 11, \"column\": 0, \"content\": \"210125\"}, {\"row\": 11, \"column\": 1, \"content\": \"83,813.40\"}, {\"row\": 11, \"column\": 2, \"content\": \"4,575.19\"}, {\"row\": 11, \"column\": 3, \"content\": \"867.20\"}, {\"row\": 11, \"column\": 4, \"content\": \"76.88\"}, {\"row\": 11, \"column\": 5, \"content\": \"14.96\"}, {\"row\": 11, \"column\": 6, \"content\": \"0.00\"}, {\"row\": 11, \"column\": 7, \"content\": \"5,534.23\"}, {\"row\": 12, \"column\": 0, \"content\": \"210225\"}, {\"row\": 12, \"column\": 1, \"content\": \"79,238.22\"}, {\"row\": 12, \"column\": 2, \"content\": \"4,626.72\"}, {\"row\": 12, \"column\": 3, \"content\": \"819.87\"}, {\"row\": 12, \"column\": 4, \"content\": \"72.68\"}, {\"row\": 12, \"column\": 5, \"content\": \"14.96\"}, {\"row\": 12, \"column\": 6, \"content\": \"0.00\"}, {\"row\": 12, \"column\": 7, \"content\": \"5,534.23\"}, {\"row\": 13, \"column\": 0, \"content\": \"210325\"}, {\"row\": 13, \"column\": 1, \"content\": \"74,611.50\"}, {\"row\": 13, \"column\": 2, \"content\": \"4,761.62\"}, {\"row\": 13, \"column\": 3, \"content\": \"697.29\"}, {\"row\": 13, \"column\": 4, \"content\": \"61.82\"}, {\"row\": 13, \"column\": 5, \"content\": \"13.51\"}, {\"row\": 13, \"column\": 6, \"content\": \"0.00\"}, {\"row\": 13, \"column\": 7, \"content\": \"5,534.23\"}, {\"row\": 14, \"column\": 0, \"content\": \"210425\"}, {\"row\": 14, \"column\": 1, \"content\": \"69,849.89\"}, {\"row\": 14, \"column\": 2, \"content\": \"4,732.47\"}, {\"row\": 14, \"column\": 3, \"content\": \"722.73\"}, {\"row\": 14, \"column\": 4, \"content\": \"64.07\"}, {\"row\": 14, \"column\": 5, \"content\": \"14.96\"}, {\"row\": 14, \"column\": 6, \"content\": \"0.00\"}, {\"row\": 14, \"column\": 7, \"content\": \"5,534.23\"}], \"2\": [{\"row\": 0, \"column\": 0, \"content\": \"FECHA OPERAC.\"}, {\"row\": 0, \"column\": 1, \"content\": \"SALDO CAPITAL\"}, {\"row\": 0, \"column\": 2, \"content\": \"AMORTIZACION\"}, {\"row\": 0, \"column\": 3, \"content\": \"INTERESES\"}, {\"row\": 0, \"column\": 4, \"content\": \"SEGURO DESGR.\"}, {\"row\": 0, \"column\": 5, \"content\": \"SEGURO\\nBIEN\"}, {\"row\": 0, \"column\": 6, \"content\": \"COMISIONES\"}, {\"row\": 0, \"column\": 7, \"content\": \"PAGADO\"}, {\"row\": 1, \"column\": 0, \"content\": \"211123\"}, {\"row\": 1, \"column\": 1, \"content\": \"240,950.00\"}, {\"row\": 1, \"column\": 2, \"content\": \"2,724.78\"}, {\"row\": 1, \"column\": 3, \"content\": \"2,573.49\"}, {\"row\": 1, \"column\": 4, \"content\": \"221.01\"}, {\"row\": 1, \"column\": 5, \"content\": \"14.95\"}, {\"row\": 1, \"column\": 6, \"content\": \"0.00\"}, {\"row\": 1, \"column\": 7, \"content\": \"5,534.23\"}, {\"row\": 2, \"column\": 0, \"content\": \"211123\"}, {\"row\": 2, \"column\": 1, \"content\": \"238,225.22\"}, {\"row\": 2, \"column\": 2, \"content\": \"50,000.00\"}, {\"row\": 2, \"column\": 3, \"content\": \"0.00\"}, {\"row\": 2, \"column\": 4, \"content\": \"0.00\"}, {\"row\": 2, \"column\": 5, \"content\": \"0.00\"}, {\"row\": 2, \"column\": 6, \"content\": \"0.00\"}, {\"row\": 2, \"column\": 7, \"content\": \"50,000.00\"}, {\"row\": 3, \"column\": 0, \"content\": \"211223\"}, {\"row\": 3, \"column\": 1, \"content\": \"188,225.22\"}, {\"row\": 3, \"column\": 2, \"content\": \"3,467.96\"}, {\"row\": 3, \"column\": 3, \"content\": \"1,884.71\"}, {\"row\": 3, \"column\": 4, \"content\": \"167.08\"}, {\"row\": 3, \"column\": 5, \"content\": \"14.48\"}, {\"row\": 3, \"column\": 6, \"content\": \"0.00\"}, {\"row\": 3, \"column\": 7, \"content\": \"5,534.23\"}, {\"row\": 4, \"column\": 0, \"content\": \"200124\"}, {\"row\": 4, \"column\": 1, \"content\": \"184,757.26\"}, {\"row\": 4, \"column\": 2, \"content\": \"3,438.14\"}, {\"row\": 4, \"column\": 3, \"content\": \"1,911.66\"}, {\"row\": 4, \"column\": 4, \"content\": \"169.47\"}, {\"row\": 4, \"column\": 5, \"content\": \"14.96\"}, {\"row\": 4, \"column\": 6, \"content\": \"0.00\"}, {\"row\": 4, \"column\": 7, \"content\": \"5,534.23\"}, {\"row\": 5, \"column\": 0, \"content\": \"080224\"}, {\"row\": 5, \"column\": 1, \"content\": \"181,319.12\"}, {\"row\": 5, \"column\": 2, \"content\": \"3,478.12\"}, {\"row\": 5, \"column\": 3, \"content\": \"1,874.93\"}, {\"row\": 5, \"column\": 4, \"content\": \"166.22\"}, {\"row\": 5, \"column\": 5, \"content\": \"14.96\"}, {\"row\": 5, \"column\": 6, \"content\": \"0.00\"}, {\"row\": 5, \"column\": 7, \"content\": \"5,534.23\"}, {\"row\": 6, \"column\": 0, \"content\": \"080224\"}, {\"row\": 6, \"column\": 1, \"content\": \"177,841.00\"}, {\"row\": 6, \"column\": 2, \"content\": \"50,500.00\"}, {\"row\": 6, \"column\": 3, \"content\": \"0.00\"}, {\"row\": 6, \"column\": 4, \"content\": \"0.00\"}, {\"row\": 6, \"column\": 5, \"content\": \"0.00\"}, {\"row\": 6, \"column\": 6, \"content\": \"0.00\"}, {\"row\": 6, \"column\": 7, \"content\": \"50,500.00\"}, {\"row\": 7, \"column\": 0, \"content\": \"TOTAL\"}, {\"row\": 7, \"column\": 1, \"content\": \"PAGADO\"}, {\"row\": 7, \"column\": 2, \"content\": \"113,609.00\"}, {\"row\": 7, \"column\": 4, \"content\": \"723.78\"}, {\"row\": 7, \"column\": 6, \"content\": \"0.00\"}, {\"row\": 8, \"column\": 3, \"content\": \"8,244.79\"}, {\"row\": 8, \"column\": 5, \"content\": \"59.35\"}, {\"row\": 8, \"column\": 7, \"content\": \"122,636.92\"}], \"3\": [{\"row\": 0, \"column\": 0, \"content\": \"PROXIMO VENCIM.\"}, {\"row\": 0, \"column\": 1, \"content\": \"SALDO CAPITAL\"}, {\"row\": 0, \"column\": 2, \"content\": \"AMORTIZACION\"}, {\"row\": 0, \"column\": 3, \"content\": \"INTERESES\"}, {\"row\": 0, \"column\": 4, \"content\": \"SEGURO DESGR .\"}, {\"row\": 0, \"column\": 5, \"content\": \"SEGURO BIEN\"}, {\"row\": 0, \"column\": 6, \"content\": \"COMISIONES\"}, {\"row\": 0, \"column\": 7, \"content\": \"CUOTA\"}, {\"row\": 1, \"column\": 0, \"content\": \"210324\"}, {\"row\": 1, \"column\": 1, \"content\": \"127,341.00\"}, {\"row\": 1, \"column\": 2, \"content\": \"4,433.35\"}, {\"row\": 1, \"column\": 3, \"content\": \"998.37\"}, {\"row\": 1, \"column\": 4, \"content\": \"88.51\"}, {\"row\": 1, \"column\": 5, \"content\": \"14.00\"}, {\"row\": 1, \"column\": 6, \"content\": \"0.00\"}, {\"row\": 1, \"column\": 7, \"content\": \"5,534.23\"}, {\"row\": 2, \"column\": 0, \"content\": \"210424\"}, {\"row\": 2, \"column\": 1, \"content\": \"122,907.65\"}, {\"row\": 2, \"column\": 2, \"content\": \"4,134.82\"}, {\"row\": 2, \"column\": 3, \"content\": \"1,271.71\"}, {\"row\": 2, \"column\": 4, \"content\": \"112.74\"}, {\"row\": 2, \"column\": 5, \"content\": \"14.96\"}, {\"row\": 2, \"column\": 6, \"content\": \"0.00\"}, {\"row\": 2, \"column\": 7, \"content\": \"5,534.23\"}, {\"row\": 3, \"column\": 0, \"content\": \"210524\"}, {\"row\": 3, \"column\": 1, \"content\": \"118,772.83\"}, {\"row\": 3, \"column\": 2, \"content\": \"4,225.04\"}, {\"row\": 3, \"column\": 3, \"content\": \"1,189.28\"}, {\"row\": 3, \"column\": 4, \"content\": \"105.43\"}, {\"row\": 3, \"column\": 5, \"content\": \"14.48\"}, {\"row\": 3, \"column\": 6, \"content\": \"0.00\"}, {\"row\": 3, \"column\": 7, \"content\": \"5,534.23\"}, {\"row\": 4, \"column\": 0, \"content\": \"210624\"}, {\"row\": 4, \"column\": 1, \"content\": \"114,547.80\"}, {\"row\": 4, \"column\": 2, \"content\": \"4,228.99\"}, {\"row\": 4, \"column\": 3, \"content\": \"1,185.21\"}, {\"row\": 4, \"column\": 4, \"content\": \"105.07\"}, {\"row\": 4, \"column\": 5, \"content\": \"14.96\"}, {\"row\": 4, \"column\": 6, \"content\": \"0.00\"}, {\"row\": 4, \"column\": 7, \"content\": \"5,534.23\"}, {\"row\": 5, \"column\": 0, \"content\": \"210724\"}, {\"row\": 5, \"column\": 1, \"content\": \"110,318.81\"}, {\"row\": 5, \"column\": 2, \"content\": \"4,317.19\"}, {\"row\": 5, \"column\": 3, \"content\": \"1,104.63\"}, {\"row\": 5, \"column\": 4, \"content\": \"97.93\"}, {\"row\": 5, \"column\": 5, \"content\": \"14.48\"}, {\"row\": 5, \"column\": 6, \"content\": \"0.00\"}, {\"row\": 5, \"column\": 7, \"content\": \"5,534.23\"}, {\"row\": 6, \"column\": 0, \"content\": \"210824\"}, {\"row\": 6, \"column\": 1, \"content\": \"106,001.62\"}, {\"row\": 6, \"column\": 2, \"content\": \"4,325.26\"}, {\"row\": 6, \"column\": 3, \"content\": \"1,096.78\"}, {\"row\": 6, \"column\": 4, \"content\": \"97.23\"}, {\"row\": 6, \"column\": 5, \"content\": \"14.96\"}, {\"row\": 6, \"column\": 6, \"content\": \"0.00\"}, {\"row\": 6, \"column\": 7, \"content\": \"5,534.23\"}, {\"row\": 7, \"column\": 0, \"content\": \"210924\"}, {\"row\": 7, \"column\": 1, \"content\": \"101,676.37\"}, {\"row\": 7, \"column\": 2, \"content\": \"4,373.98\"}, {\"row\": 7, \"column\": 3, \"content\": \"1,052.03\"}, {\"row\": 7, \"column\": 4, \"content\": \"93.26\"}, {\"row\": 7, \"column\": 5, \"content\": \"14.96\"}, {\"row\": 7, \"column\": 6, \"content\": \"0.00\"}, {\"row\": 7, \"column\": 7, \"content\": \"5,534.23\"}, {\"row\": 8, \"column\": 0, \"content\": \"211024\"}, {\"row\": 8, \"column\": 1, \"content\": \"97,302.40\"}, {\"row\": 8, \"column\": 2, \"content\": \"4,459.08\"}, {\"row\": 8, \"column\": 3, \"content\": \"974.30\"}, {\"row\": 8, \"column\": 4, \"content\": \"86.37\"}, {\"row\": 8, \"column\": 5, \"content\": \"14.48\"}, {\"row\": 8, \"column\": 6, \"content\": \"0.00\"}, {\"row\": 8, \"column\": 7, \"content\": \"5,534.23\"}, {\"row\": 9, \"column\": 0, \"content\": \"211124\"}, {\"row\": 9, \"column\": 1, \"content\": \"92,843.32\"}, {\"row\": 9, \"column\": 2, \"content\": \"4,473.47\"}, {\"row\": 9, \"column\": 3, \"content\": \"960.64\"}, {\"row\": 9, \"column\": 4, \"content\": \"85.16\"}, {\"row\": 9, \"column\": 5, \"content\": \"14.96\"}, {\"row\": 9, \"column\": 6, \"content\": \"0.00\"}, {\"row\": 9, \"column\": 7, \"content\": \"5,534.23\"}, {\"row\": 10, \"column\": 0, \"content\": \"211224\"}, {\"row\": 10, \"column\": 1, \"content\": \"88,369.85\"}, {\"row\": 10, \"column\": 2, \"content\": \"4,556.45\"}, {\"row\": 10, \"column\": 3, \"content\": \"884.85\"}, {\"row\": 10, \"column\": 4, \"content\": \"78.44\"}, {\"row\": 10, \"column\": 5, \"content\": \"14.48\"}, {\"row\": 10, \"column\": 6, \"content\": \"0.00\"}, {\"row\": 10, \"column\": 7, \"content\": \"5,534.23\"}, {\"row\": 11, \"column\": 0, \"content\": \"210125\"}, {\"row\": 11, \"column\": 1, \"content\": \"83,813.40\"}, {\"row\": 11, \"column\": 2, \"content\": \"4,575.19\"}, {\"row\": 11, \"column\": 3, \"content\": \"867.20\"}, {\"row\": 11, \"column\": 4, \"content\": \"76.88\"}, {\"row\": 11, \"column\": 5, \"content\": \"14.96\"}, {\"row\": 11, \"column\": 6, \"content\": \"0.00\"}, {\"row\": 11, \"column\": 7, \"content\": \"5,534.23\"}, {\"row\": 12, \"column\": 0, \"content\": \"210225\"}, {\"row\": 12, \"column\": 1, \"content\": \"79,238.22\"}, {\"row\": 12, \"column\": 2, \"content\": \"4,626.72\"}, {\"row\": 12, \"column\": 3, \"content\": \"819.87\"}, {\"row\": 12, \"column\": 4, \"content\": \"72.68\"}, {\"row\": 12, \"column\": 5, \"content\": \"14.96\"}, {\"row\": 12, \"column\": 6, \"content\": \"0.00\"}, {\"row\": 12, \"column\": 7, \"content\": \"5,534.23\"}, {\"row\": 13, \"column\": 0, \"content\": \"210325\"}, {\"row\": 13, \"column\": 1, \"content\": \"74,611.50\"}, {\"row\": 13, \"column\": 2, \"content\": \"4,761.62\"}, {\"row\": 13, \"column\": 3, \"content\": \"697.29\"}, {\"row\": 13, \"column\": 4, \"content\": \"61.82\"}, {\"row\": 13, \"column\": 5, \"content\": \"13.51\"}, {\"row\": 13, \"column\": 6, \"content\": \"0.00\"}, {\"row\": 13, \"column\": 7, \"content\": \"5,534.23\"}, {\"row\": 14, \"column\": 0, \"content\": \"210425\"}, {\"row\": 14, \"column\": 1, \"content\": \"69,849.89\"}, {\"row\": 14, \"column\": 2, \"content\": \"4,732.47\"}, {\"row\": 14, \"column\": 3, \"content\": \"722.73\"}, {\"row\": 14, \"column\": 4, \"content\": \"64.07\"}, {\"row\": 14, \"column\": 5, \"content\": \"14.96\"}, {\"row\": 14, \"column\": 6, \"content\": \"0.00\"}, {\"row\": 14, \"column\": 7, \"content\": \"5,534.23\"}], \"4\": [{\"row\": 0, \"column\": 0, \"content\": \"PROXIMO VENCIM.\"}, {\"row\": 0, \"column\": 1, \"content\": \"SALDO CAPITAL\"}, {\"row\": 0, \"column\": 2, \"content\": \"AMORTIZACI\\u00d3N\"}, {\"row\": 0, \"column\": 3, \"content\": \"INTERESES\"}, {\"row\": 0, \"column\": 4, \"content\": \"SEGURO DESGR.\"}, {\"row\": 0, \"column\": 5, \"content\": \"SEGURO BIEN\"}, {\"row\": 0, \"column\": 6, \"content\": \"COMISIONES\"}, {\"row\": 0, \"column\": 7, \"content\": \"CUOTA\"}, {\"row\": 1, \"column\": 0, \"content\": \"210525\"}, {\"row\": 1, \"column\": 1, \"content\": \"65,117.42\"}, {\"row\": 1, \"column\": 2, \"content\": \"4,809.92\"}, {\"row\": 1, \"column\": 3, \"content\": \"652.03\"}, {\"row\": 1, \"column\": 4, \"content\": \"57.80\"}, {\"row\": 1, \"column\": 5, \"content\": \"14.48\"}, {\"row\": 1, \"column\": 6, \"content\": \"0.00\"}, {\"row\": 1, \"column\": 7, \"content\": \"5,534.23\"}, {\"row\": 2, \"column\": 0, \"content\": \"210625\"}, {\"row\": 2, \"column\": 1, \"content\": \"60,307.50\"}, {\"row\": 2, \"column\": 2, \"content\": \"4,839.96\"}, {\"row\": 2, \"column\": 3, \"content\": \"623.99\"}, {\"row\": 2, \"column\": 4, \"content\": \"55.32\"}, {\"row\": 2, \"column\": 5, \"content\": \"14.96\"}, {\"row\": 2, \"column\": 6, \"content\": \"0.00\"}, {\"row\": 2, \"column\": 7, \"content\": \"5,534.23\"}, {\"row\": 3, \"column\": 0, \"content\": \"210725\"}, {\"row\": 3, \"column\": 1, \"content\": \"55,467.55\"}, {\"row\": 3, \"column\": 2, \"content\": \"4,915.11\"}, {\"row\": 3, \"column\": 3, \"content\": \"555.40\"}, {\"row\": 3, \"column\": 4, \"content\": \"49.24\"}, {\"row\": 3, \"column\": 5, \"content\": \"14.48\"}, {\"row\": 3, \"column\": 6, \"content\": \"0.00\"}, {\"row\": 3, \"column\": 7, \"content\": \"5,534.23\"}, {\"row\": 4, \"column\": 0, \"content\": \"210825\"}, {\"row\": 4, \"column\": 1, \"content\": \"50,552.44\"}, {\"row\": 4, \"column\": 2, \"content\": \"4,949.84\"}, {\"row\": 4, \"column\": 3, \"content\": \"523.06\"}, {\"row\": 4, \"column\": 4, \"content\": \"46.37\"}, {\"row\": 4, \"column\": 5, \"content\": \"14.96\"}, {\"row\": 4, \"column\": 6, \"content\": \"0.00\"}, {\"row\": 4, \"column\": 7, \"content\": \"5,534.23\"}, {\"row\": 5, \"column\": 0, \"content\": \"210925\"}, {\"row\": 5, \"column\": 1, \"content\": \"45,602.60\"}, {\"row\": 5, \"column\": 2, \"content\": \"5,005.60\"}, {\"row\": 5, \"column\": 3, \"content\": \"471.84\"}, {\"row\": 5, \"column\": 4, \"content\": \"41.83\"}, {\"row\": 5, \"column\": 5, \"content\": \"14.96\"}, {\"row\": 5, \"column\": 6, \"content\": \"0.00\"}, {\"row\": 5, \"column\": 7, \"content\": \"5,534.23\"}, {\"row\": 6, \"column\": 0, \"content\": \"211025\"}, {\"row\": 6, \"column\": 1, \"content\": \"40,597.01\"}, {\"row\": 6, \"column\": 2, \"content\": \"5,077.21\"}, {\"row\": 6, \"column\": 3, \"content\": \"406.50\"}, {\"row\": 6, \"column\": 4, \"content\": \"36.04\"}, {\"row\": 6, \"column\": 5, \"content\": \"14.48\"}, {\"row\": 6, \"column\": 6, \"content\": \"0.00\"}, {\"row\": 6, \"column\": 7, \"content\": \"5,534.23\"}, {\"row\": 7, \"column\": 0, \"content\": \"211125\"}, {\"row\": 7, \"column\": 1, \"content\": \"35,519.80\"}, {\"row\": 7, \"column\": 2, \"content\": \"5,119.17\"}, {\"row\": 7, \"column\": 3, \"content\": \"367.52\"}, {\"row\": 7, \"column\": 4, \"content\": \"32.58\"}, {\"row\": 7, \"column\": 5, \"content\": \"14.96\"}, {\"row\": 7, \"column\": 6, \"content\": \"0.00\"}, {\"row\": 7, \"column\": 7, \"content\": \"5,534.23\"}, {\"row\": 8, \"column\": 0, \"content\": \"211225\"}, {\"row\": 8, \"column\": 1, \"content\": \"30,400.63\"}, {\"row\": 8, \"column\": 2, \"content\": \"5,188.36\"}, {\"row\": 8, \"column\": 3, \"content\": \"304.40\"}, {\"row\": 8, \"column\": 4, \"content\": \"26.99\"}, {\"row\": 8, \"column\": 5, \"content\": \"14.48\"}, {\"row\": 8, \"column\": 6, \"content\": \"0.00\"}, {\"row\": 8, \"column\": 7, \"content\": \"5,534.23\"}, {\"row\": 9, \"column\": 0, \"content\": \"210126\"}, {\"row\": 9, \"column\": 1, \"content\": \"25,212.27\"}, {\"row\": 9, \"column\": 2, \"content\": \"5,235.28\"}, {\"row\": 9, \"column\": 3, \"content\": \"260.87\"}, {\"row\": 9, \"column\": 4, \"content\": \"23.13\"}, {\"row\": 9, \"column\": 5, \"content\": \"14.96\"}, {\"row\": 9, \"column\": 6, \"content\": \"0.00\"}, {\"row\": 9, \"column\": 7, \"content\": \"5,534.23\"}, {\"row\": 10, \"column\": 0, \"content\": \"210226\"}, {\"row\": 10, \"column\": 1, \"content\": \"19,977.00\"}, {\"row\": 10, \"column\": 2, \"content\": \"5,294.25\"}, {\"row\": 10, \"column\": 3, \"content\": \"206.70\"}, {\"row\": 10, \"column\": 4, \"content\": \"18.32\"}, {\"row\": 10, \"column\": 5, \"content\": \"14.96\"}, {\"row\": 10, \"column\": 6, \"content\": \"0.00\"}, {\"row\": 10, \"column\": 7, \"content\": \"5,534.23\"}, {\"row\": 11, \"column\": 0, \"content\": \"210326\"}, {\"row\": 11, \"column\": 1, \"content\": \"14,682.76\"}, {\"row\": 11, \"column\": 2, \"content\": \"5,371.33\"}, {\"row\": 11, \"column\": 3, \"content\": \"137.22\"}, {\"row\": 11, \"column\": 4, \"content\": \"12.16\"}, {\"row\": 11, \"column\": 5, \"content\": \"13.51\"}, {\"row\": 11, \"column\": 6, \"content\": \"0.00\"}, {\"row\": 11, \"column\": 7, \"content\": \"5,534.23\"}, {\"row\": 12, \"column\": 0, \"content\": \"210426\"}, {\"row\": 12, \"column\": 1, \"content\": \"9,311.43\"}, {\"row\": 12, \"column\": 2, \"content\": \"5,414.39\"}, {\"row\": 12, \"column\": 3, \"content\": \"96.34\"}, {\"row\": 12, \"column\": 4, \"content\": \"8.54\"}, {\"row\": 12, \"column\": 5, \"content\": \"14.96\"}, {\"row\": 12, \"column\": 6, \"content\": \"0.00\"}, {\"row\": 12, \"column\": 7, \"content\": \"5,534.23\"}, {\"row\": 13, \"column\": 0, \"content\": \"210526\"}, {\"row\": 13, \"column\": 1, \"content\": \"3,897.05\"}, {\"row\": 13, \"column\": 2, \"content\": \"3,897.05\"}, {\"row\": 13, \"column\": 3, \"content\": \"39.02\"}, {\"row\": 13, \"column\": 4, \"content\": \"3.46\"}, {\"row\": 13, \"column\": 5, \"content\": \"14.48\"}, {\"row\": 13, \"column\": 6, \"content\": \"0.00\"}, {\"row\": 13, \"column\": 7, \"content\": \"3,954.01\"}, {\"row\": 14, \"column\": 0, \"content\": \"TOTAL POR PAGAR\"}, {\"row\": 14, \"column\": 2, \"content\": \"127,341.10\"}, {\"row\": 14, \"column\": 4, \"content\": \"1,637.37\"}, {\"row\": 14, \"column\": 6, \"content\": \"0.00\"}, {\"row\": 15, \"column\": 3, \"content\": \"18,469.78\"}, {\"row\": 15, \"column\": 5, \"content\": \"395.74\"}, {\"row\": 15, \"column\": 7, \"content\": \"147,843.99\"}], \"5\": [{\"row\": 0, \"column\": 0, \"content\": \"PROXIMO VENCIM.\"}, {\"row\": 0, \"column\": 1, \"content\": \"SALDO CAPITAL\"}, {\"row\": 0, \"column\": 2, \"content\": \"AMORTIZACI\\u00d3N\"}, {\"row\": 0, \"column\": 3, \"content\": \"INTERESES\"}, {\"row\": 0, \"column\": 4, \"content\": \"SEGURO DESGR.\"}, {\"row\": 0, \"column\": 5, \"content\": \"SEGURO BIEN\"}, {\"row\": 0, \"column\": 6, \"content\": \"COMISIONES\"}, {\"row\": 0, \"column\": 7, \"content\": \"CUOTA\"}, {\"row\": 1, \"column\": 0, \"content\": \"210525\"}, {\"row\": 1, \"column\": 1, \"content\": \"65,117.42\"}, {\"row\": 1, \"column\": 2, \"content\": \"4,809.92\"}, {\"row\": 1, \"column\": 3, \"content\": \"652.03\"}, {\"row\": 1, \"column\": 4, \"content\": \"57.80\"}, {\"row\": 1, \"column\": 5, \"content\": \"14.48\"}, {\"row\": 1, \"column\": 6, \"content\": \"0.00\"}, {\"row\": 1, \"column\": 7, \"content\": \"5,534.23\"}, {\"row\": 2, \"column\": 0, \"content\": \"210625\"}, {\"row\": 2, \"column\": 1, \"content\": \"60,307.50\"}, {\"row\": 2, \"column\": 2, \"content\": \"4,839.96\"}, {\"row\": 2, \"column\": 3, \"content\": \"623.99\"}, {\"row\": 2, \"column\": 4, \"content\": \"55.32\"}, {\"row\": 2, \"column\": 5, \"content\": \"14.96\"}, {\"row\": 2, \"column\": 6, \"content\": \"0.00\"}, {\"row\": 2, \"column\": 7, \"content\": \"5,534.23\"}, {\"row\": 3, \"column\": 0, \"content\": \"210725\"}, {\"row\": 3, \"column\": 1, \"content\": \"55,467.55\"}, {\"row\": 3, \"column\": 2, \"content\": \"4,915.11\"}, {\"row\": 3, \"column\": 3, \"content\": \"555.40\"}, {\"row\": 3, \"column\": 4, \"content\": \"49.24\"}, {\"row\": 3, \"column\": 5, \"content\": \"14.48\"}, {\"row\": 3, \"column\": 6, \"content\": \"0.00\"}, {\"row\": 3, \"column\": 7, \"content\": \"5,534.23\"}, {\"row\": 4, \"column\": 0, \"content\": \"210825\"}, {\"row\": 4, \"column\": 1, \"content\": \"50,552.44\"}, {\"row\": 4, \"column\": 2, \"content\": \"4,949.84\"}, {\"row\": 4, \"column\": 3, \"content\": \"523.06\"}, {\"row\": 4, \"column\": 4, \"content\": \"46.37\"}, {\"row\": 4, \"column\": 5, \"content\": \"14.96\"}, {\"row\": 4, \"column\": 6, \"content\": \"0.00\"}, {\"row\": 4, \"column\": 7, \"content\": \"5,534.23\"}, {\"row\": 5, \"column\": 0, \"content\": \"210925\"}, {\"row\": 5, \"column\": 1, \"content\": \"45,602.60\"}, {\"row\": 5, \"column\": 2, \"content\": \"5,005.60\"}, {\"row\": 5, \"column\": 3, \"content\": \"471.84\"}, {\"row\": 5, \"column\": 4, \"content\": \"41.83\"}, {\"row\": 5, \"column\": 5, \"content\": \"14.96\"}, {\"row\": 5, \"column\": 6, \"content\": \"0.00\"}, {\"row\": 5, \"column\": 7, \"content\": \"5,534.23\"}, {\"row\": 6, \"column\": 0, \"content\": \"211025\"}, {\"row\": 6, \"column\": 1, \"content\": \"40,597.01\"}, {\"row\": 6, \"column\": 2, \"content\": \"5,077.21\"}, {\"row\": 6, \"column\": 3, \"content\": \"406.50\"}, {\"row\": 6, \"column\": 4, \"content\": \"36.04\"}, {\"row\": 6, \"column\": 5, \"content\": \"14.48\"}, {\"row\": 6, \"column\": 6, \"content\": \"0.00\"}, {\"row\": 6, \"column\": 7, \"content\": \"5,534.23\"}, {\"row\": 7, \"column\": 0, \"content\": \"211125\"}, {\"row\": 7, \"column\": 1, \"content\": \"35,519.80\"}, {\"row\": 7, \"column\": 2, \"content\": \"5,119.17\"}, {\"row\": 7, \"column\": 3, \"content\": \"367.52\"}, {\"row\": 7, \"column\": 4, \"content\": \"32.58\"}, {\"row\": 7, \"column\": 5, \"content\": \"14.96\"}, {\"row\": 7, \"column\": 6, \"content\": \"0.00\"}, {\"row\": 7, \"column\": 7, \"content\": \"5,534.23\"}, {\"row\": 8, \"column\": 0, \"content\": \"211225\"}, {\"row\": 8, \"column\": 1, \"content\": \"30,400.63\"}, {\"row\": 8, \"column\": 2, \"content\": \"5,188.36\"}, {\"row\": 8, \"column\": 3, \"content\": \"304.40\"}, {\"row\": 8, \"column\": 4, \"content\": \"26.99\"}, {\"row\": 8, \"column\": 5, \"content\": \"14.48\"}, {\"row\": 8, \"column\": 6, \"content\": \"0.00\"}, {\"row\": 8, \"column\": 7, \"content\": \"5,534.23\"}, {\"row\": 9, \"column\": 0, \"content\": \"210126\"}, {\"row\": 9, \"column\": 1, \"content\": \"25,212.27\"}, {\"row\": 9, \"column\": 2, \"content\": \"5,235.28\"}, {\"row\": 9, \"column\": 3, \"content\": \"260.87\"}, {\"row\": 9, \"column\": 4, \"content\": \"23.13\"}, {\"row\": 9, \"column\": 5, \"content\": \"14.96\"}, {\"row\": 9, \"column\": 6, \"content\": \"0.00\"}, {\"row\": 9, \"column\": 7, \"content\": \"5,534.23\"}, {\"row\": 10, \"column\": 0, \"content\": \"210226\"}, {\"row\": 10, \"column\": 1, \"content\": \"19,977.00\"}, {\"row\": 10, \"column\": 2, \"content\": \"5,294.25\"}, {\"row\": 10, \"column\": 3, \"content\": \"206.70\"}, {\"row\": 10, \"column\": 4, \"content\": \"18.32\"}, {\"row\": 10, \"column\": 5, \"content\": \"14.96\"}, {\"row\": 10, \"column\": 6, \"content\": \"0.00\"}, {\"row\": 10, \"column\": 7, \"content\": \"5,534.23\"}, {\"row\": 11, \"column\": 0, \"content\": \"210326\"}, {\"row\": 11, \"column\": 1, \"content\": \"14,682.76\"}, {\"row\": 11, \"column\": 2, \"content\": \"5,371.33\"}, {\"row\": 11, \"column\": 3, \"content\": \"137.22\"}, {\"row\": 11, \"column\": 4, \"content\": \"12.16\"}, {\"row\": 11, \"column\": 5, \"content\": \"13.51\"}, {\"row\": 11, \"column\": 6, \"content\": \"0.00\"}, {\"row\": 11, \"column\": 7, \"content\": \"5,534.23\"}, {\"row\": 12, \"column\": 0, \"content\": \"210426\"}, {\"row\": 12, \"column\": 1, \"content\": \"9,311.43\"}, {\"row\": 12, \"column\": 2, \"content\": \"5,414.39\"}, {\"row\": 12, \"column\": 3, \"content\": \"96.34\"}, {\"row\": 12, \"column\": 4, \"content\": \"8.54\"}, {\"row\": 12, \"column\": 5, \"content\": \"14.96\"}, {\"row\": 12, \"column\": 6, \"content\": \"0.00\"}, {\"row\": 12, \"column\": 7, \"content\": \"5,534.23\"}, {\"row\": 13, \"column\": 0, \"content\": \"210526\"}, {\"row\": 13, \"column\": 1, \"content\": \"3,897.05\"}, {\"row\": 13, \"column\": 2, \"content\": \"3,897.05\"}, {\"row\": 13, \"column\": 3, \"content\": \"39.02\"}, {\"row\": 13, \"column\": 4, \"content\": \"3.46\"}, {\"row\": 13, \"column\": 5, \"content\": \"14.48\"}, {\"row\": 13, \"column\": 6, \"content\": \"0.00\"}, {\"row\": 13, \"column\": 7, \"content\": \"3,954.01\"}, {\"row\": 14, \"column\": 0, \"content\": \"TOTAL POR PAGAR\"}, {\"row\": 14, \"column\": 2, \"content\": \"127,341.10\"}, {\"row\": 14, \"column\": 4, \"content\": \"1,637.37\"}, {\"row\": 14, \"column\": 6, \"content\": \"0.00\"}, {\"row\": 15, \"column\": 3, \"content\": \"18,469.78\"}, {\"row\": 15, \"column\": 5, \"content\": \"395.74\"}, {\"row\": 15, \"column\": 7, \"content\": \"147,843.99\"}]}\n",
    "            \n",
    "\"\"\""
   ]
  },
  {
   "cell_type": "code",
   "execution_count": null,
   "metadata": {},
   "outputs": [],
   "source": [
    "chain.invoke({\"ocr_content\": ocr_content})"
   ]
  },
  {
   "cell_type": "code",
   "execution_count": 22,
   "metadata": {},
   "outputs": [],
   "source": [
    "import fitz  # PyMuPDF\n",
    "import base64\n",
    "import os\n",
    "\n",
    "def transform_to_base64_image(file_path: str) -> str:\n",
    "    _, file_extension = os.path.splitext(file_path)\n",
    "    if file_extension.lower() in ['.pdf']:\n",
    "        # Convertir PDF a imagen\n",
    "        pdf_document = fitz.open(file_path)\n",
    "        page = pdf_document.load_page(0)\n",
    "        pix = page.get_pixmap()\n",
    "        image_bytes = pix.tobytes(\"jpg\")\n",
    "        image_data = base64.b64encode(image_bytes).decode(\"utf-8\")\n",
    "    elif file_extension.lower() in ['.jpg', '.jpeg', '.png']:\n",
    "        # Leer y codificar la imagen a base64\n",
    "        with open(file_path, \"rb\") as image_file:\n",
    "            image_data = base64.b64encode(image_file.read()).decode(\"utf-8\")\n",
    "    else:\n",
    "        raise ValueError(\"Unsupported file format\")\n",
    "    return image_data\n"
   ]
  },
  {
   "cell_type": "code",
   "execution_count": 9,
   "metadata": {},
   "outputs": [],
   "source": [
    "template = \"\"\"\n",
    "## Task Goal\n",
    "The task goal is to identify specific financial details from the image of a payroll slip.\n",
    "\n",
    "## Task Instructions\n",
    "You will be given an image of a payroll slip in Spanish. The image contains plain text, key-value pairs, and tables. Please identify and extract the following elements:\n",
    "\n",
    "1. **Company**: Identify the employer or entity that issued the payroll slip.\n",
    "2. **Net Salary**: Find the net salary that the employee receives. It may appear as \"sueldo neto\", \"salario neto\", \"remuneración neta\", \"saldo neto\", etc.\n",
    "3. **Variable Amounts**: Identify all variable amounts listed in the payroll slip, such as \"bonos\" (bonuses), \"renta de quinta categoría\" (fifth category income), \"utilidades\" (profits), \"vacaciones\" (vacation), \"seguro\" (insurance), \"aporte\" (contribution), \"comisión\" (commission), \"gratificación\" (gratuity), \"alimentos\" (food), \"asignación familiar\" (family allowance), \"Essalud\" (social health insurance), \"EPS\" (private health insurance), \"incentivo\" (incentive), \"retención\" (retention), etc. Return this as a dictionary, indicating the concept and the amount.\n",
    "\n",
    "If you cannot find a specific value, return an empty string (\"\").\n",
    "\n",
    "## Task Output:\n",
    "Provide the extracted information as follows:\n",
    "- Company: [Company Name]\n",
    "- Net Salary: [Net Salary Amount]\n",
    "- Variable Amounts: [\n",
    "                      \"concept\": \"amount\",\n",
    "                      ...\n",
    "                    ]\n",
    "\n",
    "## Task Input:\n",
    "\"\"\""
   ]
  },
  {
   "cell_type": "code",
   "execution_count": 1,
   "metadata": {},
   "outputs": [
    {
     "name": "stderr",
     "output_type": "stream",
     "text": [
      "c:\\Users\\julio\\OneDrive\\Documentos\\Salto\\project\\read_docs_api\\.venv\\Lib\\site-packages\\langchain_core\\_api\\deprecation.py:119: LangChainDeprecationWarning: The function `convert_pydantic_to_openai_function` was deprecated in LangChain 0.1.16 and will be removed in 0.3.0. Use langchain_core.utils.function_calling.convert_to_openai_function() instead.\n",
      "  warn_deprecated(\n"
     ]
    }
   ],
   "source": [
    "from langchain_community.utils.openai_functions import (\n",
    "    convert_pydantic_to_openai_function,\n",
    ")\n",
    "from langchain_core.prompts import ChatPromptTemplate\n",
    "from langchain_core.pydantic_v1 import BaseModel, Field, validator\n",
    "from langchain_openai import ChatOpenAI\n",
    "\n",
    "class Payment_Information(BaseModel):\n",
    "    \"\"\"Relevant information extracted from payment schedules\"\"\"\n",
    "\n",
    "    bank: str = Field(description=\"The Bank that issued the loan\")\n",
    "    monthly_payment: str = Field(description=\"The monthly payment amount the user pays for their loan.\")\n",
    "    total_loan_amount: str = Field(description=\"The total amount loaned by the bank.\")\n",
    "    interest_rate: str = Field(description=\"Find the interest rate at which the loan was issued.\")\n",
    "\n",
    "class Salary_Information(BaseModel):\n",
    "    \"\"\"Relevant information extracted from salary slips\"\"\"\n",
    "\n",
    "    company: str = Field(description=\"The employer or entity that issued the payroll slip.\")\n",
    "    net_salary: str = Field(description=\"The net salary that the employee receives.\")\n",
    "    variable_amounts: str = Field(description=\"All variable amounts listed in the payroll slip.\")\n",
    "\n",
    "payment_functions = [convert_pydantic_to_openai_function(Payment_Information)]\n",
    "salary_functions = [convert_pydantic_to_openai_function(Salary_Information)]"
   ]
  },
  {
   "cell_type": "code",
   "execution_count": 7,
   "metadata": {},
   "outputs": [],
   "source": [
    "import base64\n",
    "def encode_image(image_path):\n",
    "    with open(image_path, \"rb\") as image_file:\n",
    "        return base64.b64encode(image_file.read()).decode(\"utf-8\")"
   ]
  },
  {
   "cell_type": "code",
   "execution_count": 12,
   "metadata": {},
   "outputs": [
    {
     "ename": "BadRequestError",
     "evalue": "Error code: 400 - {'error': {'code': 'BadRequest', 'message': 'Invalid image data.', 'param': None, 'type': None}}",
     "output_type": "error",
     "traceback": [
      "\u001b[1;31m---------------------------------------------------------------------------\u001b[0m",
      "\u001b[1;31mBadRequestError\u001b[0m                           Traceback (most recent call last)",
      "Cell \u001b[1;32mIn[12], line 40\u001b[0m\n\u001b[0;32m     38\u001b[0m chain \u001b[38;5;241m=\u001b[39m prompt \u001b[38;5;241m|\u001b[39m model\u001b[38;5;241m.\u001b[39mbind(functions\u001b[38;5;241m=\u001b[39msalary_functions) \u001b[38;5;241m|\u001b[39m parser\n\u001b[0;32m     39\u001b[0m \u001b[38;5;66;03m# Invoke Azure OpenAI\u001b[39;00m\n\u001b[1;32m---> 40\u001b[0m result \u001b[38;5;241m=\u001b[39m \u001b[43mchain\u001b[49m\u001b[38;5;241;43m.\u001b[39;49m\u001b[43minvoke\u001b[49m\u001b[43m(\u001b[49m\u001b[43m{\u001b[49m\u001b[38;5;124;43m\"\u001b[39;49m\u001b[38;5;124;43mimage_data\u001b[39;49m\u001b[38;5;124;43m\"\u001b[39;49m\u001b[43m:\u001b[49m\u001b[43m \u001b[49m\u001b[43mimage_data\u001b[49m\u001b[43m}\u001b[49m\u001b[43m)\u001b[49m\n",
      "File \u001b[1;32mc:\\Users\\julio\\OneDrive\\Documentos\\Salto\\project\\read_docs_api\\.venv\\Lib\\site-packages\\langchain_core\\runnables\\base.py:2499\u001b[0m, in \u001b[0;36mRunnableSequence.invoke\u001b[1;34m(self, input, config)\u001b[0m\n\u001b[0;32m   2497\u001b[0m \u001b[38;5;28;01mtry\u001b[39;00m:\n\u001b[0;32m   2498\u001b[0m     \u001b[38;5;28;01mfor\u001b[39;00m i, step \u001b[38;5;129;01min\u001b[39;00m \u001b[38;5;28menumerate\u001b[39m(\u001b[38;5;28mself\u001b[39m\u001b[38;5;241m.\u001b[39msteps):\n\u001b[1;32m-> 2499\u001b[0m         \u001b[38;5;28minput\u001b[39m \u001b[38;5;241m=\u001b[39m \u001b[43mstep\u001b[49m\u001b[38;5;241;43m.\u001b[39;49m\u001b[43minvoke\u001b[49m\u001b[43m(\u001b[49m\n\u001b[0;32m   2500\u001b[0m \u001b[43m            \u001b[49m\u001b[38;5;28;43minput\u001b[39;49m\u001b[43m,\u001b[49m\n\u001b[0;32m   2501\u001b[0m \u001b[43m            \u001b[49m\u001b[38;5;66;43;03m# mark each step as a child run\u001b[39;49;00m\n\u001b[0;32m   2502\u001b[0m \u001b[43m            \u001b[49m\u001b[43mpatch_config\u001b[49m\u001b[43m(\u001b[49m\n\u001b[0;32m   2503\u001b[0m \u001b[43m                \u001b[49m\u001b[43mconfig\u001b[49m\u001b[43m,\u001b[49m\u001b[43m \u001b[49m\u001b[43mcallbacks\u001b[49m\u001b[38;5;241;43m=\u001b[39;49m\u001b[43mrun_manager\u001b[49m\u001b[38;5;241;43m.\u001b[39;49m\u001b[43mget_child\u001b[49m\u001b[43m(\u001b[49m\u001b[38;5;124;43mf\u001b[39;49m\u001b[38;5;124;43m\"\u001b[39;49m\u001b[38;5;124;43mseq:step:\u001b[39;49m\u001b[38;5;132;43;01m{\u001b[39;49;00m\u001b[43mi\u001b[49m\u001b[38;5;241;43m+\u001b[39;49m\u001b[38;5;241;43m1\u001b[39;49m\u001b[38;5;132;43;01m}\u001b[39;49;00m\u001b[38;5;124;43m\"\u001b[39;49m\u001b[43m)\u001b[49m\n\u001b[0;32m   2504\u001b[0m \u001b[43m            \u001b[49m\u001b[43m)\u001b[49m\u001b[43m,\u001b[49m\n\u001b[0;32m   2505\u001b[0m \u001b[43m        \u001b[49m\u001b[43m)\u001b[49m\n\u001b[0;32m   2506\u001b[0m \u001b[38;5;66;03m# finish the root run\u001b[39;00m\n\u001b[0;32m   2507\u001b[0m \u001b[38;5;28;01mexcept\u001b[39;00m \u001b[38;5;167;01mBaseException\u001b[39;00m \u001b[38;5;28;01mas\u001b[39;00m e:\n",
      "File \u001b[1;32mc:\\Users\\julio\\OneDrive\\Documentos\\Salto\\project\\read_docs_api\\.venv\\Lib\\site-packages\\langchain_core\\runnables\\base.py:4525\u001b[0m, in \u001b[0;36mRunnableBindingBase.invoke\u001b[1;34m(self, input, config, **kwargs)\u001b[0m\n\u001b[0;32m   4519\u001b[0m \u001b[38;5;28;01mdef\u001b[39;00m \u001b[38;5;21minvoke\u001b[39m(\n\u001b[0;32m   4520\u001b[0m     \u001b[38;5;28mself\u001b[39m,\n\u001b[0;32m   4521\u001b[0m     \u001b[38;5;28minput\u001b[39m: Input,\n\u001b[0;32m   4522\u001b[0m     config: Optional[RunnableConfig] \u001b[38;5;241m=\u001b[39m \u001b[38;5;28;01mNone\u001b[39;00m,\n\u001b[0;32m   4523\u001b[0m     \u001b[38;5;241m*\u001b[39m\u001b[38;5;241m*\u001b[39mkwargs: Optional[Any],\n\u001b[0;32m   4524\u001b[0m ) \u001b[38;5;241m-\u001b[39m\u001b[38;5;241m>\u001b[39m Output:\n\u001b[1;32m-> 4525\u001b[0m     \u001b[38;5;28;01mreturn\u001b[39;00m \u001b[38;5;28;43mself\u001b[39;49m\u001b[38;5;241;43m.\u001b[39;49m\u001b[43mbound\u001b[49m\u001b[38;5;241;43m.\u001b[39;49m\u001b[43minvoke\u001b[49m\u001b[43m(\u001b[49m\n\u001b[0;32m   4526\u001b[0m \u001b[43m        \u001b[49m\u001b[38;5;28;43minput\u001b[39;49m\u001b[43m,\u001b[49m\n\u001b[0;32m   4527\u001b[0m \u001b[43m        \u001b[49m\u001b[38;5;28;43mself\u001b[39;49m\u001b[38;5;241;43m.\u001b[39;49m\u001b[43m_merge_configs\u001b[49m\u001b[43m(\u001b[49m\u001b[43mconfig\u001b[49m\u001b[43m)\u001b[49m\u001b[43m,\u001b[49m\n\u001b[0;32m   4528\u001b[0m \u001b[43m        \u001b[49m\u001b[38;5;241;43m*\u001b[39;49m\u001b[38;5;241;43m*\u001b[39;49m\u001b[43m{\u001b[49m\u001b[38;5;241;43m*\u001b[39;49m\u001b[38;5;241;43m*\u001b[39;49m\u001b[38;5;28;43mself\u001b[39;49m\u001b[38;5;241;43m.\u001b[39;49m\u001b[43mkwargs\u001b[49m\u001b[43m,\u001b[49m\u001b[43m \u001b[49m\u001b[38;5;241;43m*\u001b[39;49m\u001b[38;5;241;43m*\u001b[39;49m\u001b[43mkwargs\u001b[49m\u001b[43m}\u001b[49m\u001b[43m,\u001b[49m\n\u001b[0;32m   4529\u001b[0m \u001b[43m    \u001b[49m\u001b[43m)\u001b[49m\n",
      "File \u001b[1;32mc:\\Users\\julio\\OneDrive\\Documentos\\Salto\\project\\read_docs_api\\.venv\\Lib\\site-packages\\langchain_core\\language_models\\chat_models.py:158\u001b[0m, in \u001b[0;36mBaseChatModel.invoke\u001b[1;34m(self, input, config, stop, **kwargs)\u001b[0m\n\u001b[0;32m    147\u001b[0m \u001b[38;5;28;01mdef\u001b[39;00m \u001b[38;5;21minvoke\u001b[39m(\n\u001b[0;32m    148\u001b[0m     \u001b[38;5;28mself\u001b[39m,\n\u001b[0;32m    149\u001b[0m     \u001b[38;5;28minput\u001b[39m: LanguageModelInput,\n\u001b[1;32m   (...)\u001b[0m\n\u001b[0;32m    153\u001b[0m     \u001b[38;5;241m*\u001b[39m\u001b[38;5;241m*\u001b[39mkwargs: Any,\n\u001b[0;32m    154\u001b[0m ) \u001b[38;5;241m-\u001b[39m\u001b[38;5;241m>\u001b[39m BaseMessage:\n\u001b[0;32m    155\u001b[0m     config \u001b[38;5;241m=\u001b[39m ensure_config(config)\n\u001b[0;32m    156\u001b[0m     \u001b[38;5;28;01mreturn\u001b[39;00m cast(\n\u001b[0;32m    157\u001b[0m         ChatGeneration,\n\u001b[1;32m--> 158\u001b[0m         \u001b[38;5;28;43mself\u001b[39;49m\u001b[38;5;241;43m.\u001b[39;49m\u001b[43mgenerate_prompt\u001b[49m\u001b[43m(\u001b[49m\n\u001b[0;32m    159\u001b[0m \u001b[43m            \u001b[49m\u001b[43m[\u001b[49m\u001b[38;5;28;43mself\u001b[39;49m\u001b[38;5;241;43m.\u001b[39;49m\u001b[43m_convert_input\u001b[49m\u001b[43m(\u001b[49m\u001b[38;5;28;43minput\u001b[39;49m\u001b[43m)\u001b[49m\u001b[43m]\u001b[49m\u001b[43m,\u001b[49m\n\u001b[0;32m    160\u001b[0m \u001b[43m            \u001b[49m\u001b[43mstop\u001b[49m\u001b[38;5;241;43m=\u001b[39;49m\u001b[43mstop\u001b[49m\u001b[43m,\u001b[49m\n\u001b[0;32m    161\u001b[0m \u001b[43m            \u001b[49m\u001b[43mcallbacks\u001b[49m\u001b[38;5;241;43m=\u001b[39;49m\u001b[43mconfig\u001b[49m\u001b[38;5;241;43m.\u001b[39;49m\u001b[43mget\u001b[49m\u001b[43m(\u001b[49m\u001b[38;5;124;43m\"\u001b[39;49m\u001b[38;5;124;43mcallbacks\u001b[39;49m\u001b[38;5;124;43m\"\u001b[39;49m\u001b[43m)\u001b[49m\u001b[43m,\u001b[49m\n\u001b[0;32m    162\u001b[0m \u001b[43m            \u001b[49m\u001b[43mtags\u001b[49m\u001b[38;5;241;43m=\u001b[39;49m\u001b[43mconfig\u001b[49m\u001b[38;5;241;43m.\u001b[39;49m\u001b[43mget\u001b[49m\u001b[43m(\u001b[49m\u001b[38;5;124;43m\"\u001b[39;49m\u001b[38;5;124;43mtags\u001b[39;49m\u001b[38;5;124;43m\"\u001b[39;49m\u001b[43m)\u001b[49m\u001b[43m,\u001b[49m\n\u001b[0;32m    163\u001b[0m \u001b[43m            \u001b[49m\u001b[43mmetadata\u001b[49m\u001b[38;5;241;43m=\u001b[39;49m\u001b[43mconfig\u001b[49m\u001b[38;5;241;43m.\u001b[39;49m\u001b[43mget\u001b[49m\u001b[43m(\u001b[49m\u001b[38;5;124;43m\"\u001b[39;49m\u001b[38;5;124;43mmetadata\u001b[39;49m\u001b[38;5;124;43m\"\u001b[39;49m\u001b[43m)\u001b[49m\u001b[43m,\u001b[49m\n\u001b[0;32m    164\u001b[0m \u001b[43m            \u001b[49m\u001b[43mrun_name\u001b[49m\u001b[38;5;241;43m=\u001b[39;49m\u001b[43mconfig\u001b[49m\u001b[38;5;241;43m.\u001b[39;49m\u001b[43mget\u001b[49m\u001b[43m(\u001b[49m\u001b[38;5;124;43m\"\u001b[39;49m\u001b[38;5;124;43mrun_name\u001b[39;49m\u001b[38;5;124;43m\"\u001b[39;49m\u001b[43m)\u001b[49m\u001b[43m,\u001b[49m\n\u001b[0;32m    165\u001b[0m \u001b[43m            \u001b[49m\u001b[43mrun_id\u001b[49m\u001b[38;5;241;43m=\u001b[39;49m\u001b[43mconfig\u001b[49m\u001b[38;5;241;43m.\u001b[39;49m\u001b[43mpop\u001b[49m\u001b[43m(\u001b[49m\u001b[38;5;124;43m\"\u001b[39;49m\u001b[38;5;124;43mrun_id\u001b[39;49m\u001b[38;5;124;43m\"\u001b[39;49m\u001b[43m,\u001b[49m\u001b[43m \u001b[49m\u001b[38;5;28;43;01mNone\u001b[39;49;00m\u001b[43m)\u001b[49m\u001b[43m,\u001b[49m\n\u001b[0;32m    166\u001b[0m \u001b[43m            \u001b[49m\u001b[38;5;241;43m*\u001b[39;49m\u001b[38;5;241;43m*\u001b[39;49m\u001b[43mkwargs\u001b[49m\u001b[43m,\u001b[49m\n\u001b[0;32m    167\u001b[0m \u001b[43m        \u001b[49m\u001b[43m)\u001b[49m\u001b[38;5;241m.\u001b[39mgenerations[\u001b[38;5;241m0\u001b[39m][\u001b[38;5;241m0\u001b[39m],\n\u001b[0;32m    168\u001b[0m     )\u001b[38;5;241m.\u001b[39mmessage\n",
      "File \u001b[1;32mc:\\Users\\julio\\OneDrive\\Documentos\\Salto\\project\\read_docs_api\\.venv\\Lib\\site-packages\\langchain_core\\language_models\\chat_models.py:560\u001b[0m, in \u001b[0;36mBaseChatModel.generate_prompt\u001b[1;34m(self, prompts, stop, callbacks, **kwargs)\u001b[0m\n\u001b[0;32m    552\u001b[0m \u001b[38;5;28;01mdef\u001b[39;00m \u001b[38;5;21mgenerate_prompt\u001b[39m(\n\u001b[0;32m    553\u001b[0m     \u001b[38;5;28mself\u001b[39m,\n\u001b[0;32m    554\u001b[0m     prompts: List[PromptValue],\n\u001b[1;32m   (...)\u001b[0m\n\u001b[0;32m    557\u001b[0m     \u001b[38;5;241m*\u001b[39m\u001b[38;5;241m*\u001b[39mkwargs: Any,\n\u001b[0;32m    558\u001b[0m ) \u001b[38;5;241m-\u001b[39m\u001b[38;5;241m>\u001b[39m LLMResult:\n\u001b[0;32m    559\u001b[0m     prompt_messages \u001b[38;5;241m=\u001b[39m [p\u001b[38;5;241m.\u001b[39mto_messages() \u001b[38;5;28;01mfor\u001b[39;00m p \u001b[38;5;129;01min\u001b[39;00m prompts]\n\u001b[1;32m--> 560\u001b[0m     \u001b[38;5;28;01mreturn\u001b[39;00m \u001b[38;5;28;43mself\u001b[39;49m\u001b[38;5;241;43m.\u001b[39;49m\u001b[43mgenerate\u001b[49m\u001b[43m(\u001b[49m\u001b[43mprompt_messages\u001b[49m\u001b[43m,\u001b[49m\u001b[43m \u001b[49m\u001b[43mstop\u001b[49m\u001b[38;5;241;43m=\u001b[39;49m\u001b[43mstop\u001b[49m\u001b[43m,\u001b[49m\u001b[43m \u001b[49m\u001b[43mcallbacks\u001b[49m\u001b[38;5;241;43m=\u001b[39;49m\u001b[43mcallbacks\u001b[49m\u001b[43m,\u001b[49m\u001b[43m \u001b[49m\u001b[38;5;241;43m*\u001b[39;49m\u001b[38;5;241;43m*\u001b[39;49m\u001b[43mkwargs\u001b[49m\u001b[43m)\u001b[49m\n",
      "File \u001b[1;32mc:\\Users\\julio\\OneDrive\\Documentos\\Salto\\project\\read_docs_api\\.venv\\Lib\\site-packages\\langchain_core\\language_models\\chat_models.py:421\u001b[0m, in \u001b[0;36mBaseChatModel.generate\u001b[1;34m(self, messages, stop, callbacks, tags, metadata, run_name, run_id, **kwargs)\u001b[0m\n\u001b[0;32m    419\u001b[0m         \u001b[38;5;28;01mif\u001b[39;00m run_managers:\n\u001b[0;32m    420\u001b[0m             run_managers[i]\u001b[38;5;241m.\u001b[39mon_llm_error(e, response\u001b[38;5;241m=\u001b[39mLLMResult(generations\u001b[38;5;241m=\u001b[39m[]))\n\u001b[1;32m--> 421\u001b[0m         \u001b[38;5;28;01mraise\u001b[39;00m e\n\u001b[0;32m    422\u001b[0m flattened_outputs \u001b[38;5;241m=\u001b[39m [\n\u001b[0;32m    423\u001b[0m     LLMResult(generations\u001b[38;5;241m=\u001b[39m[res\u001b[38;5;241m.\u001b[39mgenerations], llm_output\u001b[38;5;241m=\u001b[39mres\u001b[38;5;241m.\u001b[39mllm_output)  \u001b[38;5;66;03m# type: ignore[list-item]\u001b[39;00m\n\u001b[0;32m    424\u001b[0m     \u001b[38;5;28;01mfor\u001b[39;00m res \u001b[38;5;129;01min\u001b[39;00m results\n\u001b[0;32m    425\u001b[0m ]\n\u001b[0;32m    426\u001b[0m llm_output \u001b[38;5;241m=\u001b[39m \u001b[38;5;28mself\u001b[39m\u001b[38;5;241m.\u001b[39m_combine_llm_outputs([res\u001b[38;5;241m.\u001b[39mllm_output \u001b[38;5;28;01mfor\u001b[39;00m res \u001b[38;5;129;01min\u001b[39;00m results])\n",
      "File \u001b[1;32mc:\\Users\\julio\\OneDrive\\Documentos\\Salto\\project\\read_docs_api\\.venv\\Lib\\site-packages\\langchain_core\\language_models\\chat_models.py:411\u001b[0m, in \u001b[0;36mBaseChatModel.generate\u001b[1;34m(self, messages, stop, callbacks, tags, metadata, run_name, run_id, **kwargs)\u001b[0m\n\u001b[0;32m    408\u001b[0m \u001b[38;5;28;01mfor\u001b[39;00m i, m \u001b[38;5;129;01min\u001b[39;00m \u001b[38;5;28menumerate\u001b[39m(messages):\n\u001b[0;32m    409\u001b[0m     \u001b[38;5;28;01mtry\u001b[39;00m:\n\u001b[0;32m    410\u001b[0m         results\u001b[38;5;241m.\u001b[39mappend(\n\u001b[1;32m--> 411\u001b[0m             \u001b[38;5;28;43mself\u001b[39;49m\u001b[38;5;241;43m.\u001b[39;49m\u001b[43m_generate_with_cache\u001b[49m\u001b[43m(\u001b[49m\n\u001b[0;32m    412\u001b[0m \u001b[43m                \u001b[49m\u001b[43mm\u001b[49m\u001b[43m,\u001b[49m\n\u001b[0;32m    413\u001b[0m \u001b[43m                \u001b[49m\u001b[43mstop\u001b[49m\u001b[38;5;241;43m=\u001b[39;49m\u001b[43mstop\u001b[49m\u001b[43m,\u001b[49m\n\u001b[0;32m    414\u001b[0m \u001b[43m                \u001b[49m\u001b[43mrun_manager\u001b[49m\u001b[38;5;241;43m=\u001b[39;49m\u001b[43mrun_managers\u001b[49m\u001b[43m[\u001b[49m\u001b[43mi\u001b[49m\u001b[43m]\u001b[49m\u001b[43m \u001b[49m\u001b[38;5;28;43;01mif\u001b[39;49;00m\u001b[43m \u001b[49m\u001b[43mrun_managers\u001b[49m\u001b[43m \u001b[49m\u001b[38;5;28;43;01melse\u001b[39;49;00m\u001b[43m \u001b[49m\u001b[38;5;28;43;01mNone\u001b[39;49;00m\u001b[43m,\u001b[49m\n\u001b[0;32m    415\u001b[0m \u001b[43m                \u001b[49m\u001b[38;5;241;43m*\u001b[39;49m\u001b[38;5;241;43m*\u001b[39;49m\u001b[43mkwargs\u001b[49m\u001b[43m,\u001b[49m\n\u001b[0;32m    416\u001b[0m \u001b[43m            \u001b[49m\u001b[43m)\u001b[49m\n\u001b[0;32m    417\u001b[0m         )\n\u001b[0;32m    418\u001b[0m     \u001b[38;5;28;01mexcept\u001b[39;00m \u001b[38;5;167;01mBaseException\u001b[39;00m \u001b[38;5;28;01mas\u001b[39;00m e:\n\u001b[0;32m    419\u001b[0m         \u001b[38;5;28;01mif\u001b[39;00m run_managers:\n",
      "File \u001b[1;32mc:\\Users\\julio\\OneDrive\\Documentos\\Salto\\project\\read_docs_api\\.venv\\Lib\\site-packages\\langchain_core\\language_models\\chat_models.py:632\u001b[0m, in \u001b[0;36mBaseChatModel._generate_with_cache\u001b[1;34m(self, messages, stop, run_manager, **kwargs)\u001b[0m\n\u001b[0;32m    630\u001b[0m \u001b[38;5;28;01melse\u001b[39;00m:\n\u001b[0;32m    631\u001b[0m     \u001b[38;5;28;01mif\u001b[39;00m inspect\u001b[38;5;241m.\u001b[39msignature(\u001b[38;5;28mself\u001b[39m\u001b[38;5;241m.\u001b[39m_generate)\u001b[38;5;241m.\u001b[39mparameters\u001b[38;5;241m.\u001b[39mget(\u001b[38;5;124m\"\u001b[39m\u001b[38;5;124mrun_manager\u001b[39m\u001b[38;5;124m\"\u001b[39m):\n\u001b[1;32m--> 632\u001b[0m         result \u001b[38;5;241m=\u001b[39m \u001b[38;5;28;43mself\u001b[39;49m\u001b[38;5;241;43m.\u001b[39;49m\u001b[43m_generate\u001b[49m\u001b[43m(\u001b[49m\n\u001b[0;32m    633\u001b[0m \u001b[43m            \u001b[49m\u001b[43mmessages\u001b[49m\u001b[43m,\u001b[49m\u001b[43m \u001b[49m\u001b[43mstop\u001b[49m\u001b[38;5;241;43m=\u001b[39;49m\u001b[43mstop\u001b[49m\u001b[43m,\u001b[49m\u001b[43m \u001b[49m\u001b[43mrun_manager\u001b[49m\u001b[38;5;241;43m=\u001b[39;49m\u001b[43mrun_manager\u001b[49m\u001b[43m,\u001b[49m\u001b[43m \u001b[49m\u001b[38;5;241;43m*\u001b[39;49m\u001b[38;5;241;43m*\u001b[39;49m\u001b[43mkwargs\u001b[49m\n\u001b[0;32m    634\u001b[0m \u001b[43m        \u001b[49m\u001b[43m)\u001b[49m\n\u001b[0;32m    635\u001b[0m     \u001b[38;5;28;01melse\u001b[39;00m:\n\u001b[0;32m    636\u001b[0m         result \u001b[38;5;241m=\u001b[39m \u001b[38;5;28mself\u001b[39m\u001b[38;5;241m.\u001b[39m_generate(messages, stop\u001b[38;5;241m=\u001b[39mstop, \u001b[38;5;241m*\u001b[39m\u001b[38;5;241m*\u001b[39mkwargs)\n",
      "File \u001b[1;32mc:\\Users\\julio\\OneDrive\\Documentos\\Salto\\project\\read_docs_api\\.venv\\Lib\\site-packages\\langchain_openai\\chat_models\\base.py:522\u001b[0m, in \u001b[0;36mBaseChatOpenAI._generate\u001b[1;34m(self, messages, stop, run_manager, **kwargs)\u001b[0m\n\u001b[0;32m    520\u001b[0m message_dicts, params \u001b[38;5;241m=\u001b[39m \u001b[38;5;28mself\u001b[39m\u001b[38;5;241m.\u001b[39m_create_message_dicts(messages, stop)\n\u001b[0;32m    521\u001b[0m params \u001b[38;5;241m=\u001b[39m {\u001b[38;5;241m*\u001b[39m\u001b[38;5;241m*\u001b[39mparams, \u001b[38;5;241m*\u001b[39m\u001b[38;5;241m*\u001b[39mkwargs}\n\u001b[1;32m--> 522\u001b[0m response \u001b[38;5;241m=\u001b[39m \u001b[38;5;28;43mself\u001b[39;49m\u001b[38;5;241;43m.\u001b[39;49m\u001b[43mclient\u001b[49m\u001b[38;5;241;43m.\u001b[39;49m\u001b[43mcreate\u001b[49m\u001b[43m(\u001b[49m\u001b[43mmessages\u001b[49m\u001b[38;5;241;43m=\u001b[39;49m\u001b[43mmessage_dicts\u001b[49m\u001b[43m,\u001b[49m\u001b[43m \u001b[49m\u001b[38;5;241;43m*\u001b[39;49m\u001b[38;5;241;43m*\u001b[39;49m\u001b[43mparams\u001b[49m\u001b[43m)\u001b[49m\n\u001b[0;32m    523\u001b[0m \u001b[38;5;28;01mreturn\u001b[39;00m \u001b[38;5;28mself\u001b[39m\u001b[38;5;241m.\u001b[39m_create_chat_result(response)\n",
      "File \u001b[1;32mc:\\Users\\julio\\OneDrive\\Documentos\\Salto\\project\\read_docs_api\\.venv\\Lib\\site-packages\\openai\\_utils\\_utils.py:277\u001b[0m, in \u001b[0;36mrequired_args.<locals>.inner.<locals>.wrapper\u001b[1;34m(*args, **kwargs)\u001b[0m\n\u001b[0;32m    275\u001b[0m             msg \u001b[38;5;241m=\u001b[39m \u001b[38;5;124mf\u001b[39m\u001b[38;5;124m\"\u001b[39m\u001b[38;5;124mMissing required argument: \u001b[39m\u001b[38;5;132;01m{\u001b[39;00mquote(missing[\u001b[38;5;241m0\u001b[39m])\u001b[38;5;132;01m}\u001b[39;00m\u001b[38;5;124m\"\u001b[39m\n\u001b[0;32m    276\u001b[0m     \u001b[38;5;28;01mraise\u001b[39;00m \u001b[38;5;167;01mTypeError\u001b[39;00m(msg)\n\u001b[1;32m--> 277\u001b[0m \u001b[38;5;28;01mreturn\u001b[39;00m \u001b[43mfunc\u001b[49m\u001b[43m(\u001b[49m\u001b[38;5;241;43m*\u001b[39;49m\u001b[43margs\u001b[49m\u001b[43m,\u001b[49m\u001b[43m \u001b[49m\u001b[38;5;241;43m*\u001b[39;49m\u001b[38;5;241;43m*\u001b[39;49m\u001b[43mkwargs\u001b[49m\u001b[43m)\u001b[49m\n",
      "File \u001b[1;32mc:\\Users\\julio\\OneDrive\\Documentos\\Salto\\project\\read_docs_api\\.venv\\Lib\\site-packages\\openai\\resources\\chat\\completions.py:590\u001b[0m, in \u001b[0;36mCompletions.create\u001b[1;34m(self, messages, model, frequency_penalty, function_call, functions, logit_bias, logprobs, max_tokens, n, presence_penalty, response_format, seed, stop, stream, stream_options, temperature, tool_choice, tools, top_logprobs, top_p, user, extra_headers, extra_query, extra_body, timeout)\u001b[0m\n\u001b[0;32m    558\u001b[0m \u001b[38;5;129m@required_args\u001b[39m([\u001b[38;5;124m\"\u001b[39m\u001b[38;5;124mmessages\u001b[39m\u001b[38;5;124m\"\u001b[39m, \u001b[38;5;124m\"\u001b[39m\u001b[38;5;124mmodel\u001b[39m\u001b[38;5;124m\"\u001b[39m], [\u001b[38;5;124m\"\u001b[39m\u001b[38;5;124mmessages\u001b[39m\u001b[38;5;124m\"\u001b[39m, \u001b[38;5;124m\"\u001b[39m\u001b[38;5;124mmodel\u001b[39m\u001b[38;5;124m\"\u001b[39m, \u001b[38;5;124m\"\u001b[39m\u001b[38;5;124mstream\u001b[39m\u001b[38;5;124m\"\u001b[39m])\n\u001b[0;32m    559\u001b[0m \u001b[38;5;28;01mdef\u001b[39;00m \u001b[38;5;21mcreate\u001b[39m(\n\u001b[0;32m    560\u001b[0m     \u001b[38;5;28mself\u001b[39m,\n\u001b[1;32m   (...)\u001b[0m\n\u001b[0;32m    588\u001b[0m     timeout: \u001b[38;5;28mfloat\u001b[39m \u001b[38;5;241m|\u001b[39m httpx\u001b[38;5;241m.\u001b[39mTimeout \u001b[38;5;241m|\u001b[39m \u001b[38;5;28;01mNone\u001b[39;00m \u001b[38;5;241m|\u001b[39m NotGiven \u001b[38;5;241m=\u001b[39m NOT_GIVEN,\n\u001b[0;32m    589\u001b[0m ) \u001b[38;5;241m-\u001b[39m\u001b[38;5;241m>\u001b[39m ChatCompletion \u001b[38;5;241m|\u001b[39m Stream[ChatCompletionChunk]:\n\u001b[1;32m--> 590\u001b[0m     \u001b[38;5;28;01mreturn\u001b[39;00m \u001b[38;5;28;43mself\u001b[39;49m\u001b[38;5;241;43m.\u001b[39;49m\u001b[43m_post\u001b[49m\u001b[43m(\u001b[49m\n\u001b[0;32m    591\u001b[0m \u001b[43m        \u001b[49m\u001b[38;5;124;43m\"\u001b[39;49m\u001b[38;5;124;43m/chat/completions\u001b[39;49m\u001b[38;5;124;43m\"\u001b[39;49m\u001b[43m,\u001b[49m\n\u001b[0;32m    592\u001b[0m \u001b[43m        \u001b[49m\u001b[43mbody\u001b[49m\u001b[38;5;241;43m=\u001b[39;49m\u001b[43mmaybe_transform\u001b[49m\u001b[43m(\u001b[49m\n\u001b[0;32m    593\u001b[0m \u001b[43m            \u001b[49m\u001b[43m{\u001b[49m\n\u001b[0;32m    594\u001b[0m \u001b[43m                \u001b[49m\u001b[38;5;124;43m\"\u001b[39;49m\u001b[38;5;124;43mmessages\u001b[39;49m\u001b[38;5;124;43m\"\u001b[39;49m\u001b[43m:\u001b[49m\u001b[43m \u001b[49m\u001b[43mmessages\u001b[49m\u001b[43m,\u001b[49m\n\u001b[0;32m    595\u001b[0m \u001b[43m                \u001b[49m\u001b[38;5;124;43m\"\u001b[39;49m\u001b[38;5;124;43mmodel\u001b[39;49m\u001b[38;5;124;43m\"\u001b[39;49m\u001b[43m:\u001b[49m\u001b[43m \u001b[49m\u001b[43mmodel\u001b[49m\u001b[43m,\u001b[49m\n\u001b[0;32m    596\u001b[0m \u001b[43m                \u001b[49m\u001b[38;5;124;43m\"\u001b[39;49m\u001b[38;5;124;43mfrequency_penalty\u001b[39;49m\u001b[38;5;124;43m\"\u001b[39;49m\u001b[43m:\u001b[49m\u001b[43m \u001b[49m\u001b[43mfrequency_penalty\u001b[49m\u001b[43m,\u001b[49m\n\u001b[0;32m    597\u001b[0m \u001b[43m                \u001b[49m\u001b[38;5;124;43m\"\u001b[39;49m\u001b[38;5;124;43mfunction_call\u001b[39;49m\u001b[38;5;124;43m\"\u001b[39;49m\u001b[43m:\u001b[49m\u001b[43m \u001b[49m\u001b[43mfunction_call\u001b[49m\u001b[43m,\u001b[49m\n\u001b[0;32m    598\u001b[0m \u001b[43m                \u001b[49m\u001b[38;5;124;43m\"\u001b[39;49m\u001b[38;5;124;43mfunctions\u001b[39;49m\u001b[38;5;124;43m\"\u001b[39;49m\u001b[43m:\u001b[49m\u001b[43m \u001b[49m\u001b[43mfunctions\u001b[49m\u001b[43m,\u001b[49m\n\u001b[0;32m    599\u001b[0m \u001b[43m                \u001b[49m\u001b[38;5;124;43m\"\u001b[39;49m\u001b[38;5;124;43mlogit_bias\u001b[39;49m\u001b[38;5;124;43m\"\u001b[39;49m\u001b[43m:\u001b[49m\u001b[43m \u001b[49m\u001b[43mlogit_bias\u001b[49m\u001b[43m,\u001b[49m\n\u001b[0;32m    600\u001b[0m \u001b[43m                \u001b[49m\u001b[38;5;124;43m\"\u001b[39;49m\u001b[38;5;124;43mlogprobs\u001b[39;49m\u001b[38;5;124;43m\"\u001b[39;49m\u001b[43m:\u001b[49m\u001b[43m \u001b[49m\u001b[43mlogprobs\u001b[49m\u001b[43m,\u001b[49m\n\u001b[0;32m    601\u001b[0m \u001b[43m                \u001b[49m\u001b[38;5;124;43m\"\u001b[39;49m\u001b[38;5;124;43mmax_tokens\u001b[39;49m\u001b[38;5;124;43m\"\u001b[39;49m\u001b[43m:\u001b[49m\u001b[43m \u001b[49m\u001b[43mmax_tokens\u001b[49m\u001b[43m,\u001b[49m\n\u001b[0;32m    602\u001b[0m \u001b[43m                \u001b[49m\u001b[38;5;124;43m\"\u001b[39;49m\u001b[38;5;124;43mn\u001b[39;49m\u001b[38;5;124;43m\"\u001b[39;49m\u001b[43m:\u001b[49m\u001b[43m \u001b[49m\u001b[43mn\u001b[49m\u001b[43m,\u001b[49m\n\u001b[0;32m    603\u001b[0m \u001b[43m                \u001b[49m\u001b[38;5;124;43m\"\u001b[39;49m\u001b[38;5;124;43mpresence_penalty\u001b[39;49m\u001b[38;5;124;43m\"\u001b[39;49m\u001b[43m:\u001b[49m\u001b[43m \u001b[49m\u001b[43mpresence_penalty\u001b[49m\u001b[43m,\u001b[49m\n\u001b[0;32m    604\u001b[0m \u001b[43m                \u001b[49m\u001b[38;5;124;43m\"\u001b[39;49m\u001b[38;5;124;43mresponse_format\u001b[39;49m\u001b[38;5;124;43m\"\u001b[39;49m\u001b[43m:\u001b[49m\u001b[43m \u001b[49m\u001b[43mresponse_format\u001b[49m\u001b[43m,\u001b[49m\n\u001b[0;32m    605\u001b[0m \u001b[43m                \u001b[49m\u001b[38;5;124;43m\"\u001b[39;49m\u001b[38;5;124;43mseed\u001b[39;49m\u001b[38;5;124;43m\"\u001b[39;49m\u001b[43m:\u001b[49m\u001b[43m \u001b[49m\u001b[43mseed\u001b[49m\u001b[43m,\u001b[49m\n\u001b[0;32m    606\u001b[0m \u001b[43m                \u001b[49m\u001b[38;5;124;43m\"\u001b[39;49m\u001b[38;5;124;43mstop\u001b[39;49m\u001b[38;5;124;43m\"\u001b[39;49m\u001b[43m:\u001b[49m\u001b[43m \u001b[49m\u001b[43mstop\u001b[49m\u001b[43m,\u001b[49m\n\u001b[0;32m    607\u001b[0m \u001b[43m                \u001b[49m\u001b[38;5;124;43m\"\u001b[39;49m\u001b[38;5;124;43mstream\u001b[39;49m\u001b[38;5;124;43m\"\u001b[39;49m\u001b[43m:\u001b[49m\u001b[43m \u001b[49m\u001b[43mstream\u001b[49m\u001b[43m,\u001b[49m\n\u001b[0;32m    608\u001b[0m \u001b[43m                \u001b[49m\u001b[38;5;124;43m\"\u001b[39;49m\u001b[38;5;124;43mstream_options\u001b[39;49m\u001b[38;5;124;43m\"\u001b[39;49m\u001b[43m:\u001b[49m\u001b[43m \u001b[49m\u001b[43mstream_options\u001b[49m\u001b[43m,\u001b[49m\n\u001b[0;32m    609\u001b[0m \u001b[43m                \u001b[49m\u001b[38;5;124;43m\"\u001b[39;49m\u001b[38;5;124;43mtemperature\u001b[39;49m\u001b[38;5;124;43m\"\u001b[39;49m\u001b[43m:\u001b[49m\u001b[43m \u001b[49m\u001b[43mtemperature\u001b[49m\u001b[43m,\u001b[49m\n\u001b[0;32m    610\u001b[0m \u001b[43m                \u001b[49m\u001b[38;5;124;43m\"\u001b[39;49m\u001b[38;5;124;43mtool_choice\u001b[39;49m\u001b[38;5;124;43m\"\u001b[39;49m\u001b[43m:\u001b[49m\u001b[43m \u001b[49m\u001b[43mtool_choice\u001b[49m\u001b[43m,\u001b[49m\n\u001b[0;32m    611\u001b[0m \u001b[43m                \u001b[49m\u001b[38;5;124;43m\"\u001b[39;49m\u001b[38;5;124;43mtools\u001b[39;49m\u001b[38;5;124;43m\"\u001b[39;49m\u001b[43m:\u001b[49m\u001b[43m \u001b[49m\u001b[43mtools\u001b[49m\u001b[43m,\u001b[49m\n\u001b[0;32m    612\u001b[0m \u001b[43m                \u001b[49m\u001b[38;5;124;43m\"\u001b[39;49m\u001b[38;5;124;43mtop_logprobs\u001b[39;49m\u001b[38;5;124;43m\"\u001b[39;49m\u001b[43m:\u001b[49m\u001b[43m \u001b[49m\u001b[43mtop_logprobs\u001b[49m\u001b[43m,\u001b[49m\n\u001b[0;32m    613\u001b[0m \u001b[43m                \u001b[49m\u001b[38;5;124;43m\"\u001b[39;49m\u001b[38;5;124;43mtop_p\u001b[39;49m\u001b[38;5;124;43m\"\u001b[39;49m\u001b[43m:\u001b[49m\u001b[43m \u001b[49m\u001b[43mtop_p\u001b[49m\u001b[43m,\u001b[49m\n\u001b[0;32m    614\u001b[0m \u001b[43m                \u001b[49m\u001b[38;5;124;43m\"\u001b[39;49m\u001b[38;5;124;43muser\u001b[39;49m\u001b[38;5;124;43m\"\u001b[39;49m\u001b[43m:\u001b[49m\u001b[43m \u001b[49m\u001b[43muser\u001b[49m\u001b[43m,\u001b[49m\n\u001b[0;32m    615\u001b[0m \u001b[43m            \u001b[49m\u001b[43m}\u001b[49m\u001b[43m,\u001b[49m\n\u001b[0;32m    616\u001b[0m \u001b[43m            \u001b[49m\u001b[43mcompletion_create_params\u001b[49m\u001b[38;5;241;43m.\u001b[39;49m\u001b[43mCompletionCreateParams\u001b[49m\u001b[43m,\u001b[49m\n\u001b[0;32m    617\u001b[0m \u001b[43m        \u001b[49m\u001b[43m)\u001b[49m\u001b[43m,\u001b[49m\n\u001b[0;32m    618\u001b[0m \u001b[43m        \u001b[49m\u001b[43moptions\u001b[49m\u001b[38;5;241;43m=\u001b[39;49m\u001b[43mmake_request_options\u001b[49m\u001b[43m(\u001b[49m\n\u001b[0;32m    619\u001b[0m \u001b[43m            \u001b[49m\u001b[43mextra_headers\u001b[49m\u001b[38;5;241;43m=\u001b[39;49m\u001b[43mextra_headers\u001b[49m\u001b[43m,\u001b[49m\u001b[43m \u001b[49m\u001b[43mextra_query\u001b[49m\u001b[38;5;241;43m=\u001b[39;49m\u001b[43mextra_query\u001b[49m\u001b[43m,\u001b[49m\u001b[43m \u001b[49m\u001b[43mextra_body\u001b[49m\u001b[38;5;241;43m=\u001b[39;49m\u001b[43mextra_body\u001b[49m\u001b[43m,\u001b[49m\u001b[43m \u001b[49m\u001b[43mtimeout\u001b[49m\u001b[38;5;241;43m=\u001b[39;49m\u001b[43mtimeout\u001b[49m\n\u001b[0;32m    620\u001b[0m \u001b[43m        \u001b[49m\u001b[43m)\u001b[49m\u001b[43m,\u001b[49m\n\u001b[0;32m    621\u001b[0m \u001b[43m        \u001b[49m\u001b[43mcast_to\u001b[49m\u001b[38;5;241;43m=\u001b[39;49m\u001b[43mChatCompletion\u001b[49m\u001b[43m,\u001b[49m\n\u001b[0;32m    622\u001b[0m \u001b[43m        \u001b[49m\u001b[43mstream\u001b[49m\u001b[38;5;241;43m=\u001b[39;49m\u001b[43mstream\u001b[49m\u001b[43m \u001b[49m\u001b[38;5;129;43;01mor\u001b[39;49;00m\u001b[43m \u001b[49m\u001b[38;5;28;43;01mFalse\u001b[39;49;00m\u001b[43m,\u001b[49m\n\u001b[0;32m    623\u001b[0m \u001b[43m        \u001b[49m\u001b[43mstream_cls\u001b[49m\u001b[38;5;241;43m=\u001b[39;49m\u001b[43mStream\u001b[49m\u001b[43m[\u001b[49m\u001b[43mChatCompletionChunk\u001b[49m\u001b[43m]\u001b[49m\u001b[43m,\u001b[49m\n\u001b[0;32m    624\u001b[0m \u001b[43m    \u001b[49m\u001b[43m)\u001b[49m\n",
      "File \u001b[1;32mc:\\Users\\julio\\OneDrive\\Documentos\\Salto\\project\\read_docs_api\\.venv\\Lib\\site-packages\\openai\\_base_client.py:1240\u001b[0m, in \u001b[0;36mSyncAPIClient.post\u001b[1;34m(self, path, cast_to, body, options, files, stream, stream_cls)\u001b[0m\n\u001b[0;32m   1226\u001b[0m \u001b[38;5;28;01mdef\u001b[39;00m \u001b[38;5;21mpost\u001b[39m(\n\u001b[0;32m   1227\u001b[0m     \u001b[38;5;28mself\u001b[39m,\n\u001b[0;32m   1228\u001b[0m     path: \u001b[38;5;28mstr\u001b[39m,\n\u001b[1;32m   (...)\u001b[0m\n\u001b[0;32m   1235\u001b[0m     stream_cls: \u001b[38;5;28mtype\u001b[39m[_StreamT] \u001b[38;5;241m|\u001b[39m \u001b[38;5;28;01mNone\u001b[39;00m \u001b[38;5;241m=\u001b[39m \u001b[38;5;28;01mNone\u001b[39;00m,\n\u001b[0;32m   1236\u001b[0m ) \u001b[38;5;241m-\u001b[39m\u001b[38;5;241m>\u001b[39m ResponseT \u001b[38;5;241m|\u001b[39m _StreamT:\n\u001b[0;32m   1237\u001b[0m     opts \u001b[38;5;241m=\u001b[39m FinalRequestOptions\u001b[38;5;241m.\u001b[39mconstruct(\n\u001b[0;32m   1238\u001b[0m         method\u001b[38;5;241m=\u001b[39m\u001b[38;5;124m\"\u001b[39m\u001b[38;5;124mpost\u001b[39m\u001b[38;5;124m\"\u001b[39m, url\u001b[38;5;241m=\u001b[39mpath, json_data\u001b[38;5;241m=\u001b[39mbody, files\u001b[38;5;241m=\u001b[39mto_httpx_files(files), \u001b[38;5;241m*\u001b[39m\u001b[38;5;241m*\u001b[39moptions\n\u001b[0;32m   1239\u001b[0m     )\n\u001b[1;32m-> 1240\u001b[0m     \u001b[38;5;28;01mreturn\u001b[39;00m cast(ResponseT, \u001b[38;5;28;43mself\u001b[39;49m\u001b[38;5;241;43m.\u001b[39;49m\u001b[43mrequest\u001b[49m\u001b[43m(\u001b[49m\u001b[43mcast_to\u001b[49m\u001b[43m,\u001b[49m\u001b[43m \u001b[49m\u001b[43mopts\u001b[49m\u001b[43m,\u001b[49m\u001b[43m \u001b[49m\u001b[43mstream\u001b[49m\u001b[38;5;241;43m=\u001b[39;49m\u001b[43mstream\u001b[49m\u001b[43m,\u001b[49m\u001b[43m \u001b[49m\u001b[43mstream_cls\u001b[49m\u001b[38;5;241;43m=\u001b[39;49m\u001b[43mstream_cls\u001b[49m\u001b[43m)\u001b[49m)\n",
      "File \u001b[1;32mc:\\Users\\julio\\OneDrive\\Documentos\\Salto\\project\\read_docs_api\\.venv\\Lib\\site-packages\\openai\\_base_client.py:921\u001b[0m, in \u001b[0;36mSyncAPIClient.request\u001b[1;34m(self, cast_to, options, remaining_retries, stream, stream_cls)\u001b[0m\n\u001b[0;32m    912\u001b[0m \u001b[38;5;28;01mdef\u001b[39;00m \u001b[38;5;21mrequest\u001b[39m(\n\u001b[0;32m    913\u001b[0m     \u001b[38;5;28mself\u001b[39m,\n\u001b[0;32m    914\u001b[0m     cast_to: Type[ResponseT],\n\u001b[1;32m   (...)\u001b[0m\n\u001b[0;32m    919\u001b[0m     stream_cls: \u001b[38;5;28mtype\u001b[39m[_StreamT] \u001b[38;5;241m|\u001b[39m \u001b[38;5;28;01mNone\u001b[39;00m \u001b[38;5;241m=\u001b[39m \u001b[38;5;28;01mNone\u001b[39;00m,\n\u001b[0;32m    920\u001b[0m ) \u001b[38;5;241m-\u001b[39m\u001b[38;5;241m>\u001b[39m ResponseT \u001b[38;5;241m|\u001b[39m _StreamT:\n\u001b[1;32m--> 921\u001b[0m     \u001b[38;5;28;01mreturn\u001b[39;00m \u001b[38;5;28;43mself\u001b[39;49m\u001b[38;5;241;43m.\u001b[39;49m\u001b[43m_request\u001b[49m\u001b[43m(\u001b[49m\n\u001b[0;32m    922\u001b[0m \u001b[43m        \u001b[49m\u001b[43mcast_to\u001b[49m\u001b[38;5;241;43m=\u001b[39;49m\u001b[43mcast_to\u001b[49m\u001b[43m,\u001b[49m\n\u001b[0;32m    923\u001b[0m \u001b[43m        \u001b[49m\u001b[43moptions\u001b[49m\u001b[38;5;241;43m=\u001b[39;49m\u001b[43moptions\u001b[49m\u001b[43m,\u001b[49m\n\u001b[0;32m    924\u001b[0m \u001b[43m        \u001b[49m\u001b[43mstream\u001b[49m\u001b[38;5;241;43m=\u001b[39;49m\u001b[43mstream\u001b[49m\u001b[43m,\u001b[49m\n\u001b[0;32m    925\u001b[0m \u001b[43m        \u001b[49m\u001b[43mstream_cls\u001b[49m\u001b[38;5;241;43m=\u001b[39;49m\u001b[43mstream_cls\u001b[49m\u001b[43m,\u001b[49m\n\u001b[0;32m    926\u001b[0m \u001b[43m        \u001b[49m\u001b[43mremaining_retries\u001b[49m\u001b[38;5;241;43m=\u001b[39;49m\u001b[43mremaining_retries\u001b[49m\u001b[43m,\u001b[49m\n\u001b[0;32m    927\u001b[0m \u001b[43m    \u001b[49m\u001b[43m)\u001b[49m\n",
      "File \u001b[1;32mc:\\Users\\julio\\OneDrive\\Documentos\\Salto\\project\\read_docs_api\\.venv\\Lib\\site-packages\\openai\\_base_client.py:1020\u001b[0m, in \u001b[0;36mSyncAPIClient._request\u001b[1;34m(self, cast_to, options, remaining_retries, stream, stream_cls)\u001b[0m\n\u001b[0;32m   1017\u001b[0m         err\u001b[38;5;241m.\u001b[39mresponse\u001b[38;5;241m.\u001b[39mread()\n\u001b[0;32m   1019\u001b[0m     log\u001b[38;5;241m.\u001b[39mdebug(\u001b[38;5;124m\"\u001b[39m\u001b[38;5;124mRe-raising status error\u001b[39m\u001b[38;5;124m\"\u001b[39m)\n\u001b[1;32m-> 1020\u001b[0m     \u001b[38;5;28;01mraise\u001b[39;00m \u001b[38;5;28mself\u001b[39m\u001b[38;5;241m.\u001b[39m_make_status_error_from_response(err\u001b[38;5;241m.\u001b[39mresponse) \u001b[38;5;28;01mfrom\u001b[39;00m \u001b[38;5;28;01mNone\u001b[39;00m\n\u001b[0;32m   1022\u001b[0m \u001b[38;5;28;01mreturn\u001b[39;00m \u001b[38;5;28mself\u001b[39m\u001b[38;5;241m.\u001b[39m_process_response(\n\u001b[0;32m   1023\u001b[0m     cast_to\u001b[38;5;241m=\u001b[39mcast_to,\n\u001b[0;32m   1024\u001b[0m     options\u001b[38;5;241m=\u001b[39moptions,\n\u001b[1;32m   (...)\u001b[0m\n\u001b[0;32m   1027\u001b[0m     stream_cls\u001b[38;5;241m=\u001b[39mstream_cls,\n\u001b[0;32m   1028\u001b[0m )\n",
      "\u001b[1;31mBadRequestError\u001b[0m: Error code: 400 - {'error': {'code': 'BadRequest', 'message': 'Invalid image data.', 'param': None, 'type': None}}"
     ]
    }
   ],
   "source": [
    "from langchain_openai import ChatOpenAI\n",
    "from langchain.prompts import ChatPromptTemplate\n",
    "from langchain.output_parsers.openai_functions import JsonOutputFunctionsParser\n",
    "from langchain_core.runnables import RunnablePassthrough\n",
    "from langchain_openai import OpenAIEmbeddings\n",
    "from langchain_community.vectorstores import FAISS\n",
    "from langchain.text_splitter import RecursiveCharacterTextSplitter\n",
    "from langchain_community.document_loaders import TextLoader\n",
    "from langchain_core.messages import HumanMessage\n",
    "from langchain_openai import AzureChatOpenAI\n",
    "from langchain_openai import AzureOpenAIEmbeddings\n",
    "import httpx\n",
    "from langchain_core.prompts import ChatPromptTemplate, HumanMessagePromptTemplate\n",
    "\n",
    "file_path = r'C:\\Users\\julio\\OneDrive\\Documentos\\Salto\\project\\metrics\\Input\\BOLETAS DE PAGO\\Andreita\\57C4263A-7602-4328-B9E0-C7E58D9E1CA8.pdf'\n",
    "\n",
    "# Transformar archivo a imagen codificada en base64\n",
    "image_data = encode_image(file_path)\n",
    "\n",
    "prompt = ChatPromptTemplate.from_messages(\n",
    "                                            [\n",
    "                                                (\"system\", f\"{template}\"),\n",
    "                                                (\n",
    "                                                    \"user\",\n",
    "                                                    [{\"type\": \"image_url\", \"image_url\": \"data:image/jpeg;base64,{image_data}\"}],\n",
    "                                                ),\n",
    "                                            ]\n",
    "                                        )\n",
    "model = AzureChatOpenAI(\n",
    "    openai_api_type='azure',\n",
    "    openai_api_version=\"2024-02-15-preview\",\n",
    "    azure_deployment=\"oaisaltoibk4o\",\n",
    "    azure_endpoint=\"https://saltoeusibkoai01dev.openai.azure.com/\",\n",
    "    openai_api_key=\"d0a66ddc2ce24a0b96d1ab206233f079\",\n",
    ")\n",
    "# Build chain\n",
    "parser = JsonOutputFunctionsParser()\n",
    "chain = prompt | model.bind(functions=salary_functions) | parser\n",
    "# Invoke Azure OpenAI\n",
    "result = chain.invoke({\"image_data\": image_data})"
   ]
  },
  {
   "cell_type": "code",
   "execution_count": 13,
   "metadata": {},
   "outputs": [
    {
     "name": "stdout",
     "output_type": "stream",
     "text": [
      "first=ChatPromptTemplate(input_variables=['image_data'], messages=[SystemMessagePromptTemplate(prompt=PromptTemplate(input_variables=[], template='\\n## Task Goal\\nThe task goal is to identify specific financial details from the image of a payroll slip.\\n\\n## Task Instructions\\nYou will be given an image of a payroll slip in Spanish. The image contains plain text, key-value pairs, and tables. Please identify and extract the following elements:\\n\\n1. **Company**: Identify the employer or entity that issued the payroll slip.\\n2. **Net Salary**: Find the net salary that the employee receives. It may appear as \"sueldo neto\", \"salario neto\", \"remuneración neta\", \"saldo neto\", etc.\\n3. **Variable Amounts**: Identify all variable amounts listed in the payroll slip, such as \"bonos\" (bonuses), \"renta de quinta categoría\" (fifth category income), \"utilidades\" (profits), \"vacaciones\" (vacation), \"seguro\" (insurance), \"aporte\" (contribution), \"comisión\" (commission), \"gratificación\" (gratuity), \"alimentos\" (food), \"asignación familiar\" (family allowance), \"Essalud\" (social health insurance), \"EPS\" (private health insurance), \"incentivo\" (incentive), \"retención\" (retention), etc. Return this as a dictionary, indicating the concept and the amount.\\n\\nIf you cannot find a specific value, return an empty string (\"\").\\n\\n## Task Output:\\nProvide the extracted information as follows:\\n- Company: [Company Name]\\n- Net Salary: [Net Salary Amount]\\n- Variable Amounts: [\\n                      \"concept\": \"amount\",\\n                      ...\\n                    ]\\n\\n## Task Input:\\n')), HumanMessagePromptTemplate(prompt=[ImagePromptTemplate(input_variables=['image_data'], template={'url': 'data:image/jpeg;base64,{image_data}'})])]) middle=[RunnableBinding(bound=AzureChatOpenAI(client=<openai.resources.chat.completions.Completions object at 0x000001A20559D610>, async_client=<openai.resources.chat.completions.AsyncCompletions object at 0x000001A205626350>, openai_api_key=SecretStr('**********'), openai_proxy='', azure_endpoint='https://saltoeusibkoai01dev.openai.azure.com/', deployment_name='oaisaltoibk4o', openai_api_version='2024-02-15-preview', openai_api_type='azure'), kwargs={'functions': [{'name': 'Salary_Information', 'description': 'Relevant information extracted from salary slips', 'parameters': {'type': 'object', 'properties': {'company': {'description': 'The employer or entity that issued the payroll slip.', 'type': 'string'}, 'net_salary': {'description': 'The net salary that the employee receives.', 'type': 'string'}, 'variable_amounts': {'description': 'All variable amounts listed in the payroll slip.', 'type': 'string'}}, 'required': ['company', 'net_salary', 'variable_amounts']}}]})] last=JsonOutputFunctionsParser()\n"
     ]
    }
   ],
   "source": [
    "print(chain)"
   ]
  },
  {
   "cell_type": "code",
   "execution_count": 14,
   "metadata": {},
   "outputs": [],
   "source": [
    "a = str('hola')"
   ]
  }
 ],
 "metadata": {
  "kernelspec": {
   "display_name": ".venv",
   "language": "python",
   "name": "python3"
  },
  "language_info": {
   "codemirror_mode": {
    "name": "ipython",
    "version": 3
   },
   "file_extension": ".py",
   "mimetype": "text/x-python",
   "name": "python",
   "nbconvert_exporter": "python",
   "pygments_lexer": "ipython3",
   "version": "3.11.0"
  }
 },
 "nbformat": 4,
 "nbformat_minor": 2
}
